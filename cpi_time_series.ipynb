{
 "cells": [
  {
   "cell_type": "code",
   "execution_count": 113,
   "metadata": {},
   "outputs": [],
   "source": [
    "import pandas as pd\n",
    "import numpy as np\n",
    "import matplotlib.pyplot as plt\n",
    "import plotly.graph_objects as go\n",
    "\n",
    "from darts import TimeSeries\n",
    "from darts.dataprocessing.transformers import Scaler\n",
    "from darts.models import RNNModel\n",
    "from darts.metrics import mae, mse\n",
    "from darts.utils.timeseries_generation import datetime_attribute_timeseries\n",
    "\n",
    "import warnings\n",
    "warnings.filterwarnings(\"ignore\")\n",
    "\n",
    "# === 1. Prétraitement des données ===\n",
    "def preprocess_CPI_data(csv_path=\"services/data/raw/ConsumerPriceIndexCPI2019AsBaseYearMonthly.csv\"):\n",
    "    # Lecture du fichier CSV d'origine\n",
    "    df = pd.read_csv(csv_path)\n",
    "    \n",
    "    df[\"DataSeries\"] = df[\"DataSeries\"].str.strip()\n",
    "    \n",
    "    melted = pd.melt(df, id_vars=[\"DataSeries\"], var_name=\"year_month\", value_name=\"CPI\")\n",
    "    \n",
    "    pivot_df = melted.pivot(index=\"year_month\", columns=\"DataSeries\", values=\"CPI\").reset_index()\n",
    "\n",
    "    pivot_df[\"year_month\"] = pivot_df[\"year_month\"].apply(lambda x: x[:4] + \"-\" + x[4:])\n",
    "\n",
    "    pivot_df = pivot_df[['year_month', 'All Items', 'Food', 'Clothing & Footwear', 'Housing & Utilities', 'Household Durables & Services', 'Health Care', 'Transport', 'Communication', 'Recreation & Culture', 'Education', 'Personal Care', 'Alcoholic Drinks & Tobacco', 'Public Transport']]\n",
    "    return pivot_df\n"
   ]
  },
  {
   "cell_type": "code",
   "execution_count": 114,
   "metadata": {},
   "outputs": [],
   "source": [
    "dataframe = preprocess_CPI_data()[['year_month', 'All Items']]\n",
    "\n",
    "# on converti dataframe[\"All Items\"] en float\n",
    "\n",
    "dataframe[\"All Items\"] = dataframe[\"All Items\"].astype(float)\n",
    "\n",
    "# === 2. Conversion en série temporelle Darts ===\n",
    "series = TimeSeries.from_dataframe(dataframe, time_col=\"year_month\", value_cols=\"All Items\")"
   ]
  },
  {
   "cell_type": "code",
   "execution_count": 115,
   "metadata": {},
   "outputs": [],
   "source": [
    "# === 3. Normalisation ===\n",
    "scaler = Scaler()\n",
    "series_scaled = scaler.fit_transform(series)"
   ]
  },
  {
   "cell_type": "code",
   "execution_count": 116,
   "metadata": {},
   "outputs": [],
   "source": [
    "# === 4. Split train/val (80/20) ===\n",
    "train, val = series_scaled.split_after(0.96)"
   ]
  },
  {
   "cell_type": "code",
   "execution_count": 117,
   "metadata": {},
   "outputs": [],
   "source": [
    "# === 5. Création de covariates temporelles (Année, Mois en sin/cos) ===\n",
    "year_series = datetime_attribute_timeseries(series, attribute=\"year\", one_hot=False)\n",
    "year_series = Scaler().fit_transform(year_series)\n",
    "\n",
    "month_series = datetime_attribute_timeseries(series, attribute=\"month\", one_hot=True)\n",
    "covariates = year_series.stack(month_series)\n",
    "\n",
    "cov_train, cov_val = covariates.split_after(0.96)"
   ]
  },
  {
   "cell_type": "code",
   "execution_count": 118,
   "metadata": {},
   "outputs": [],
   "source": [
    "# === 6. Définition du modèle LSTM avec Darts ===\n",
    "model = RNNModel(\n",
    "    model=\"LSTM\",\n",
    "    hidden_dim=80,\n",
    "    dropout=0.1,\n",
    "    batch_size=32,\n",
    "    n_epochs=100,\n",
    "    optimizer_kwargs={\"lr\": 5e-4},\n",
    "    model_name=\"CPI_LSTM\",\n",
    "    random_state=42,\n",
    "    training_length=24,  \n",
    "    input_chunk_length=24,  # Augmenté\n",
    "    force_reset=True,\n",
    "    save_checkpoints=True\n",
    ")\n"
   ]
  },
  {
   "cell_type": "code",
   "execution_count": 119,
   "metadata": {},
   "outputs": [
    {
     "data": {
      "application/vnd.jupyter.widget-view+json": {
       "model_id": "0d33614ffe754e9f95f9c4f1ece5f0e9",
       "version_major": 2,
       "version_minor": 0
      },
      "text/plain": [
       "Sanity Checking: |          | 0/? [00:00<?, ?it/s]"
      ]
     },
     "metadata": {},
     "output_type": "display_data"
    },
    {
     "data": {
      "application/vnd.jupyter.widget-view+json": {
       "model_id": "c4f35b8f7323431db055b952088a4070",
       "version_major": 2,
       "version_minor": 0
      },
      "text/plain": [
       "Training: |          | 0/? [00:00<?, ?it/s]"
      ]
     },
     "metadata": {},
     "output_type": "display_data"
    },
    {
     "data": {
      "application/vnd.jupyter.widget-view+json": {
       "model_id": "8c1d15a05a9f4674816de0d1d41fa18e",
       "version_major": 2,
       "version_minor": 0
      },
      "text/plain": [
       "Validation: |          | 0/? [00:00<?, ?it/s]"
      ]
     },
     "metadata": {},
     "output_type": "display_data"
    },
    {
     "data": {
      "application/vnd.jupyter.widget-view+json": {
       "model_id": "de0f8cccf7c44ab993daf25dd94fc624",
       "version_major": 2,
       "version_minor": 0
      },
      "text/plain": [
       "Validation: |          | 0/? [00:00<?, ?it/s]"
      ]
     },
     "metadata": {},
     "output_type": "display_data"
    },
    {
     "data": {
      "application/vnd.jupyter.widget-view+json": {
       "model_id": "4c6264f39e1b4270b9b14308538b66ad",
       "version_major": 2,
       "version_minor": 0
      },
      "text/plain": [
       "Validation: |          | 0/? [00:00<?, ?it/s]"
      ]
     },
     "metadata": {},
     "output_type": "display_data"
    },
    {
     "data": {
      "application/vnd.jupyter.widget-view+json": {
       "model_id": "2faf543c87944d10a4638b94cebf95e1",
       "version_major": 2,
       "version_minor": 0
      },
      "text/plain": [
       "Validation: |          | 0/? [00:00<?, ?it/s]"
      ]
     },
     "metadata": {},
     "output_type": "display_data"
    },
    {
     "data": {
      "application/vnd.jupyter.widget-view+json": {
       "model_id": "90e2d6f528104fa19690d6072b94ea80",
       "version_major": 2,
       "version_minor": 0
      },
      "text/plain": [
       "Validation: |          | 0/? [00:00<?, ?it/s]"
      ]
     },
     "metadata": {},
     "output_type": "display_data"
    },
    {
     "data": {
      "application/vnd.jupyter.widget-view+json": {
       "model_id": "8819d2bcb01448669e42998dbf7ac000",
       "version_major": 2,
       "version_minor": 0
      },
      "text/plain": [
       "Validation: |          | 0/? [00:00<?, ?it/s]"
      ]
     },
     "metadata": {},
     "output_type": "display_data"
    },
    {
     "data": {
      "application/vnd.jupyter.widget-view+json": {
       "model_id": "cd7fc1286f9942fc8ead8fea494b9379",
       "version_major": 2,
       "version_minor": 0
      },
      "text/plain": [
       "Validation: |          | 0/? [00:00<?, ?it/s]"
      ]
     },
     "metadata": {},
     "output_type": "display_data"
    },
    {
     "data": {
      "application/vnd.jupyter.widget-view+json": {
       "model_id": "c7ffec8be78a4f81a49cb019fb3b3bb7",
       "version_major": 2,
       "version_minor": 0
      },
      "text/plain": [
       "Validation: |          | 0/? [00:00<?, ?it/s]"
      ]
     },
     "metadata": {},
     "output_type": "display_data"
    },
    {
     "data": {
      "application/vnd.jupyter.widget-view+json": {
       "model_id": "2802f12d5d224cdf8ac99c0f8204856b",
       "version_major": 2,
       "version_minor": 0
      },
      "text/plain": [
       "Validation: |          | 0/? [00:00<?, ?it/s]"
      ]
     },
     "metadata": {},
     "output_type": "display_data"
    },
    {
     "data": {
      "application/vnd.jupyter.widget-view+json": {
       "model_id": "86e90705ca2a4f16949e110648e5fe64",
       "version_major": 2,
       "version_minor": 0
      },
      "text/plain": [
       "Validation: |          | 0/? [00:00<?, ?it/s]"
      ]
     },
     "metadata": {},
     "output_type": "display_data"
    },
    {
     "data": {
      "application/vnd.jupyter.widget-view+json": {
       "model_id": "de309c5c7b404c21a534b36c372b9fca",
       "version_major": 2,
       "version_minor": 0
      },
      "text/plain": [
       "Validation: |          | 0/? [00:00<?, ?it/s]"
      ]
     },
     "metadata": {},
     "output_type": "display_data"
    },
    {
     "data": {
      "application/vnd.jupyter.widget-view+json": {
       "model_id": "005b67836bb84e6282a6afbe63c1b6a7",
       "version_major": 2,
       "version_minor": 0
      },
      "text/plain": [
       "Validation: |          | 0/? [00:00<?, ?it/s]"
      ]
     },
     "metadata": {},
     "output_type": "display_data"
    },
    {
     "data": {
      "application/vnd.jupyter.widget-view+json": {
       "model_id": "2637a659c48f44e5981bbfe5a7cb99c9",
       "version_major": 2,
       "version_minor": 0
      },
      "text/plain": [
       "Validation: |          | 0/? [00:00<?, ?it/s]"
      ]
     },
     "metadata": {},
     "output_type": "display_data"
    },
    {
     "data": {
      "application/vnd.jupyter.widget-view+json": {
       "model_id": "9ccd0d68e0c04c31afa467613096ac6f",
       "version_major": 2,
       "version_minor": 0
      },
      "text/plain": [
       "Validation: |          | 0/? [00:00<?, ?it/s]"
      ]
     },
     "metadata": {},
     "output_type": "display_data"
    },
    {
     "data": {
      "application/vnd.jupyter.widget-view+json": {
       "model_id": "a6814258622d4498852ae1085deaf929",
       "version_major": 2,
       "version_minor": 0
      },
      "text/plain": [
       "Validation: |          | 0/? [00:00<?, ?it/s]"
      ]
     },
     "metadata": {},
     "output_type": "display_data"
    },
    {
     "data": {
      "application/vnd.jupyter.widget-view+json": {
       "model_id": "3a568f7f01004dda906a8495b5245515",
       "version_major": 2,
       "version_minor": 0
      },
      "text/plain": [
       "Validation: |          | 0/? [00:00<?, ?it/s]"
      ]
     },
     "metadata": {},
     "output_type": "display_data"
    },
    {
     "data": {
      "application/vnd.jupyter.widget-view+json": {
       "model_id": "4a6ed48ccd864fb3ac9cd04bab7c8384",
       "version_major": 2,
       "version_minor": 0
      },
      "text/plain": [
       "Validation: |          | 0/? [00:00<?, ?it/s]"
      ]
     },
     "metadata": {},
     "output_type": "display_data"
    },
    {
     "data": {
      "application/vnd.jupyter.widget-view+json": {
       "model_id": "4ef15b58f60d46fab3c4ec5e77a99d7c",
       "version_major": 2,
       "version_minor": 0
      },
      "text/plain": [
       "Validation: |          | 0/? [00:00<?, ?it/s]"
      ]
     },
     "metadata": {},
     "output_type": "display_data"
    },
    {
     "data": {
      "application/vnd.jupyter.widget-view+json": {
       "model_id": "831cda42d1874214b57a486f088fbd1c",
       "version_major": 2,
       "version_minor": 0
      },
      "text/plain": [
       "Validation: |          | 0/? [00:00<?, ?it/s]"
      ]
     },
     "metadata": {},
     "output_type": "display_data"
    },
    {
     "data": {
      "application/vnd.jupyter.widget-view+json": {
       "model_id": "f5f89355bfba40e9a8d07eca530d36e1",
       "version_major": 2,
       "version_minor": 0
      },
      "text/plain": [
       "Validation: |          | 0/? [00:00<?, ?it/s]"
      ]
     },
     "metadata": {},
     "output_type": "display_data"
    },
    {
     "data": {
      "application/vnd.jupyter.widget-view+json": {
       "model_id": "4d628539d1aa465cbaa35b4edfa97482",
       "version_major": 2,
       "version_minor": 0
      },
      "text/plain": [
       "Validation: |          | 0/? [00:00<?, ?it/s]"
      ]
     },
     "metadata": {},
     "output_type": "display_data"
    },
    {
     "data": {
      "application/vnd.jupyter.widget-view+json": {
       "model_id": "c855d2f6881a4c3eb8e778dc9fded8a2",
       "version_major": 2,
       "version_minor": 0
      },
      "text/plain": [
       "Validation: |          | 0/? [00:00<?, ?it/s]"
      ]
     },
     "metadata": {},
     "output_type": "display_data"
    },
    {
     "data": {
      "application/vnd.jupyter.widget-view+json": {
       "model_id": "aecbfa989f744046b96039626566efed",
       "version_major": 2,
       "version_minor": 0
      },
      "text/plain": [
       "Validation: |          | 0/? [00:00<?, ?it/s]"
      ]
     },
     "metadata": {},
     "output_type": "display_data"
    },
    {
     "data": {
      "application/vnd.jupyter.widget-view+json": {
       "model_id": "5d23c993f6904c10b55003568310d34e",
       "version_major": 2,
       "version_minor": 0
      },
      "text/plain": [
       "Validation: |          | 0/? [00:00<?, ?it/s]"
      ]
     },
     "metadata": {},
     "output_type": "display_data"
    },
    {
     "data": {
      "application/vnd.jupyter.widget-view+json": {
       "model_id": "fdfe488a31cd4ec9894c523d0834c017",
       "version_major": 2,
       "version_minor": 0
      },
      "text/plain": [
       "Validation: |          | 0/? [00:00<?, ?it/s]"
      ]
     },
     "metadata": {},
     "output_type": "display_data"
    },
    {
     "data": {
      "application/vnd.jupyter.widget-view+json": {
       "model_id": "f67409d81a5a40be8addf11905d68a30",
       "version_major": 2,
       "version_minor": 0
      },
      "text/plain": [
       "Validation: |          | 0/? [00:00<?, ?it/s]"
      ]
     },
     "metadata": {},
     "output_type": "display_data"
    },
    {
     "data": {
      "application/vnd.jupyter.widget-view+json": {
       "model_id": "73510538beea48128f41def2e4a97f23",
       "version_major": 2,
       "version_minor": 0
      },
      "text/plain": [
       "Validation: |          | 0/? [00:00<?, ?it/s]"
      ]
     },
     "metadata": {},
     "output_type": "display_data"
    },
    {
     "data": {
      "application/vnd.jupyter.widget-view+json": {
       "model_id": "42429748cd16410396423274e1b18719",
       "version_major": 2,
       "version_minor": 0
      },
      "text/plain": [
       "Validation: |          | 0/? [00:00<?, ?it/s]"
      ]
     },
     "metadata": {},
     "output_type": "display_data"
    },
    {
     "data": {
      "application/vnd.jupyter.widget-view+json": {
       "model_id": "a19bc93ca7f3420583e19200efd1fac8",
       "version_major": 2,
       "version_minor": 0
      },
      "text/plain": [
       "Validation: |          | 0/? [00:00<?, ?it/s]"
      ]
     },
     "metadata": {},
     "output_type": "display_data"
    },
    {
     "data": {
      "application/vnd.jupyter.widget-view+json": {
       "model_id": "4804744bd70241578db7ef6bc3f7dfeb",
       "version_major": 2,
       "version_minor": 0
      },
      "text/plain": [
       "Validation: |          | 0/? [00:00<?, ?it/s]"
      ]
     },
     "metadata": {},
     "output_type": "display_data"
    },
    {
     "data": {
      "application/vnd.jupyter.widget-view+json": {
       "model_id": "8b012fa19ea44430b6cbefad3fa2ca59",
       "version_major": 2,
       "version_minor": 0
      },
      "text/plain": [
       "Validation: |          | 0/? [00:00<?, ?it/s]"
      ]
     },
     "metadata": {},
     "output_type": "display_data"
    },
    {
     "data": {
      "application/vnd.jupyter.widget-view+json": {
       "model_id": "30784fd1daf64bf1a98278be99914ca8",
       "version_major": 2,
       "version_minor": 0
      },
      "text/plain": [
       "Validation: |          | 0/? [00:00<?, ?it/s]"
      ]
     },
     "metadata": {},
     "output_type": "display_data"
    },
    {
     "data": {
      "application/vnd.jupyter.widget-view+json": {
       "model_id": "671f121fe13542acb7a409df469fdfad",
       "version_major": 2,
       "version_minor": 0
      },
      "text/plain": [
       "Validation: |          | 0/? [00:00<?, ?it/s]"
      ]
     },
     "metadata": {},
     "output_type": "display_data"
    },
    {
     "data": {
      "application/vnd.jupyter.widget-view+json": {
       "model_id": "df4f52d8774f4b32927d451b1c38bb2f",
       "version_major": 2,
       "version_minor": 0
      },
      "text/plain": [
       "Validation: |          | 0/? [00:00<?, ?it/s]"
      ]
     },
     "metadata": {},
     "output_type": "display_data"
    },
    {
     "data": {
      "application/vnd.jupyter.widget-view+json": {
       "model_id": "f5b6d7ab9b7446a690abca76535e4581",
       "version_major": 2,
       "version_minor": 0
      },
      "text/plain": [
       "Validation: |          | 0/? [00:00<?, ?it/s]"
      ]
     },
     "metadata": {},
     "output_type": "display_data"
    },
    {
     "data": {
      "application/vnd.jupyter.widget-view+json": {
       "model_id": "02c16fb6a8f545999799d99f89184bd8",
       "version_major": 2,
       "version_minor": 0
      },
      "text/plain": [
       "Validation: |          | 0/? [00:00<?, ?it/s]"
      ]
     },
     "metadata": {},
     "output_type": "display_data"
    },
    {
     "data": {
      "application/vnd.jupyter.widget-view+json": {
       "model_id": "ea9de184b1d44dbbb409731a5f66b299",
       "version_major": 2,
       "version_minor": 0
      },
      "text/plain": [
       "Validation: |          | 0/? [00:00<?, ?it/s]"
      ]
     },
     "metadata": {},
     "output_type": "display_data"
    },
    {
     "data": {
      "application/vnd.jupyter.widget-view+json": {
       "model_id": "c0599445e96c4c66a640790f9674f057",
       "version_major": 2,
       "version_minor": 0
      },
      "text/plain": [
       "Validation: |          | 0/? [00:00<?, ?it/s]"
      ]
     },
     "metadata": {},
     "output_type": "display_data"
    },
    {
     "data": {
      "application/vnd.jupyter.widget-view+json": {
       "model_id": "99a3eac84fa3489fa15d5cd3c742b9ed",
       "version_major": 2,
       "version_minor": 0
      },
      "text/plain": [
       "Validation: |          | 0/? [00:00<?, ?it/s]"
      ]
     },
     "metadata": {},
     "output_type": "display_data"
    },
    {
     "data": {
      "application/vnd.jupyter.widget-view+json": {
       "model_id": "64a1b346db854230910e0ec667613c64",
       "version_major": 2,
       "version_minor": 0
      },
      "text/plain": [
       "Validation: |          | 0/? [00:00<?, ?it/s]"
      ]
     },
     "metadata": {},
     "output_type": "display_data"
    },
    {
     "data": {
      "application/vnd.jupyter.widget-view+json": {
       "model_id": "f81febc5fae34bef853b9ca75d7cf6a8",
       "version_major": 2,
       "version_minor": 0
      },
      "text/plain": [
       "Validation: |          | 0/? [00:00<?, ?it/s]"
      ]
     },
     "metadata": {},
     "output_type": "display_data"
    },
    {
     "data": {
      "application/vnd.jupyter.widget-view+json": {
       "model_id": "395b4be3a4c4469cb4606f518d20e3d1",
       "version_major": 2,
       "version_minor": 0
      },
      "text/plain": [
       "Validation: |          | 0/? [00:00<?, ?it/s]"
      ]
     },
     "metadata": {},
     "output_type": "display_data"
    },
    {
     "data": {
      "application/vnd.jupyter.widget-view+json": {
       "model_id": "1791c5cda09d40a9b440f20275fa977b",
       "version_major": 2,
       "version_minor": 0
      },
      "text/plain": [
       "Validation: |          | 0/? [00:00<?, ?it/s]"
      ]
     },
     "metadata": {},
     "output_type": "display_data"
    },
    {
     "data": {
      "application/vnd.jupyter.widget-view+json": {
       "model_id": "50fed21016b94a4aa456586be068b90c",
       "version_major": 2,
       "version_minor": 0
      },
      "text/plain": [
       "Validation: |          | 0/? [00:00<?, ?it/s]"
      ]
     },
     "metadata": {},
     "output_type": "display_data"
    },
    {
     "data": {
      "application/vnd.jupyter.widget-view+json": {
       "model_id": "3aa0b7968d7e46dfab971e9a476be1fb",
       "version_major": 2,
       "version_minor": 0
      },
      "text/plain": [
       "Validation: |          | 0/? [00:00<?, ?it/s]"
      ]
     },
     "metadata": {},
     "output_type": "display_data"
    },
    {
     "data": {
      "application/vnd.jupyter.widget-view+json": {
       "model_id": "38713b3fd41543d3b023d5fe8245aeb8",
       "version_major": 2,
       "version_minor": 0
      },
      "text/plain": [
       "Validation: |          | 0/? [00:00<?, ?it/s]"
      ]
     },
     "metadata": {},
     "output_type": "display_data"
    },
    {
     "data": {
      "application/vnd.jupyter.widget-view+json": {
       "model_id": "482afe3464564394951f1123d8cbf504",
       "version_major": 2,
       "version_minor": 0
      },
      "text/plain": [
       "Validation: |          | 0/? [00:00<?, ?it/s]"
      ]
     },
     "metadata": {},
     "output_type": "display_data"
    },
    {
     "data": {
      "application/vnd.jupyter.widget-view+json": {
       "model_id": "0e50118a2e6a427fae93fc15286911e9",
       "version_major": 2,
       "version_minor": 0
      },
      "text/plain": [
       "Validation: |          | 0/? [00:00<?, ?it/s]"
      ]
     },
     "metadata": {},
     "output_type": "display_data"
    },
    {
     "data": {
      "application/vnd.jupyter.widget-view+json": {
       "model_id": "3f1bf2825bbf42a3892ef4d63dd94d0f",
       "version_major": 2,
       "version_minor": 0
      },
      "text/plain": [
       "Validation: |          | 0/? [00:00<?, ?it/s]"
      ]
     },
     "metadata": {},
     "output_type": "display_data"
    },
    {
     "data": {
      "application/vnd.jupyter.widget-view+json": {
       "model_id": "87e4f1a6dfe044fba4df036c20252fcf",
       "version_major": 2,
       "version_minor": 0
      },
      "text/plain": [
       "Validation: |          | 0/? [00:00<?, ?it/s]"
      ]
     },
     "metadata": {},
     "output_type": "display_data"
    },
    {
     "data": {
      "application/vnd.jupyter.widget-view+json": {
       "model_id": "83b7024c16db461c9ac7e34a89937813",
       "version_major": 2,
       "version_minor": 0
      },
      "text/plain": [
       "Validation: |          | 0/? [00:00<?, ?it/s]"
      ]
     },
     "metadata": {},
     "output_type": "display_data"
    },
    {
     "data": {
      "application/vnd.jupyter.widget-view+json": {
       "model_id": "caa010c9ee7d4d469adaf34f87838888",
       "version_major": 2,
       "version_minor": 0
      },
      "text/plain": [
       "Validation: |          | 0/? [00:00<?, ?it/s]"
      ]
     },
     "metadata": {},
     "output_type": "display_data"
    },
    {
     "data": {
      "application/vnd.jupyter.widget-view+json": {
       "model_id": "3501d737bc5442aab7e4f75738fd5e7d",
       "version_major": 2,
       "version_minor": 0
      },
      "text/plain": [
       "Validation: |          | 0/? [00:00<?, ?it/s]"
      ]
     },
     "metadata": {},
     "output_type": "display_data"
    },
    {
     "data": {
      "application/vnd.jupyter.widget-view+json": {
       "model_id": "1c159d941da545cd8267cb15ab4e859f",
       "version_major": 2,
       "version_minor": 0
      },
      "text/plain": [
       "Validation: |          | 0/? [00:00<?, ?it/s]"
      ]
     },
     "metadata": {},
     "output_type": "display_data"
    },
    {
     "data": {
      "application/vnd.jupyter.widget-view+json": {
       "model_id": "8a03ea4ad428481d9e59dd90fcef372b",
       "version_major": 2,
       "version_minor": 0
      },
      "text/plain": [
       "Validation: |          | 0/? [00:00<?, ?it/s]"
      ]
     },
     "metadata": {},
     "output_type": "display_data"
    },
    {
     "data": {
      "application/vnd.jupyter.widget-view+json": {
       "model_id": "dbe2d2b9e5c94e14984440e1b102eb4a",
       "version_major": 2,
       "version_minor": 0
      },
      "text/plain": [
       "Validation: |          | 0/? [00:00<?, ?it/s]"
      ]
     },
     "metadata": {},
     "output_type": "display_data"
    },
    {
     "data": {
      "application/vnd.jupyter.widget-view+json": {
       "model_id": "74068a8248b24f4f9765aa1b52ea7898",
       "version_major": 2,
       "version_minor": 0
      },
      "text/plain": [
       "Validation: |          | 0/? [00:00<?, ?it/s]"
      ]
     },
     "metadata": {},
     "output_type": "display_data"
    },
    {
     "data": {
      "application/vnd.jupyter.widget-view+json": {
       "model_id": "a3c1548de21a4bcfbb37c07c2b575b63",
       "version_major": 2,
       "version_minor": 0
      },
      "text/plain": [
       "Validation: |          | 0/? [00:00<?, ?it/s]"
      ]
     },
     "metadata": {},
     "output_type": "display_data"
    },
    {
     "data": {
      "application/vnd.jupyter.widget-view+json": {
       "model_id": "26164f7be97e43cc9227f0009cbb5d12",
       "version_major": 2,
       "version_minor": 0
      },
      "text/plain": [
       "Validation: |          | 0/? [00:00<?, ?it/s]"
      ]
     },
     "metadata": {},
     "output_type": "display_data"
    },
    {
     "data": {
      "application/vnd.jupyter.widget-view+json": {
       "model_id": "3b52720b700c4030a46051d0154b1c99",
       "version_major": 2,
       "version_minor": 0
      },
      "text/plain": [
       "Validation: |          | 0/? [00:00<?, ?it/s]"
      ]
     },
     "metadata": {},
     "output_type": "display_data"
    },
    {
     "data": {
      "application/vnd.jupyter.widget-view+json": {
       "model_id": "40399e468ed641d2887b968769b0e398",
       "version_major": 2,
       "version_minor": 0
      },
      "text/plain": [
       "Validation: |          | 0/? [00:00<?, ?it/s]"
      ]
     },
     "metadata": {},
     "output_type": "display_data"
    },
    {
     "data": {
      "application/vnd.jupyter.widget-view+json": {
       "model_id": "1a189354101d46a9bee017a4f97f489d",
       "version_major": 2,
       "version_minor": 0
      },
      "text/plain": [
       "Validation: |          | 0/? [00:00<?, ?it/s]"
      ]
     },
     "metadata": {},
     "output_type": "display_data"
    },
    {
     "data": {
      "application/vnd.jupyter.widget-view+json": {
       "model_id": "028348028a4d47318549147dffff0320",
       "version_major": 2,
       "version_minor": 0
      },
      "text/plain": [
       "Validation: |          | 0/? [00:00<?, ?it/s]"
      ]
     },
     "metadata": {},
     "output_type": "display_data"
    },
    {
     "data": {
      "application/vnd.jupyter.widget-view+json": {
       "model_id": "afe9784a1a7a42489654173e7cb31559",
       "version_major": 2,
       "version_minor": 0
      },
      "text/plain": [
       "Validation: |          | 0/? [00:00<?, ?it/s]"
      ]
     },
     "metadata": {},
     "output_type": "display_data"
    },
    {
     "data": {
      "application/vnd.jupyter.widget-view+json": {
       "model_id": "c09c50a6f02b439f8618fe6749ac8c1d",
       "version_major": 2,
       "version_minor": 0
      },
      "text/plain": [
       "Validation: |          | 0/? [00:00<?, ?it/s]"
      ]
     },
     "metadata": {},
     "output_type": "display_data"
    },
    {
     "data": {
      "application/vnd.jupyter.widget-view+json": {
       "model_id": "bd676635e80b4abf828fc89a64823d45",
       "version_major": 2,
       "version_minor": 0
      },
      "text/plain": [
       "Validation: |          | 0/? [00:00<?, ?it/s]"
      ]
     },
     "metadata": {},
     "output_type": "display_data"
    },
    {
     "data": {
      "application/vnd.jupyter.widget-view+json": {
       "model_id": "4b2c9b20c32648d686ca1dd49c80b0cb",
       "version_major": 2,
       "version_minor": 0
      },
      "text/plain": [
       "Validation: |          | 0/? [00:00<?, ?it/s]"
      ]
     },
     "metadata": {},
     "output_type": "display_data"
    },
    {
     "data": {
      "application/vnd.jupyter.widget-view+json": {
       "model_id": "827aa2fab59643ada4b9b97714997995",
       "version_major": 2,
       "version_minor": 0
      },
      "text/plain": [
       "Validation: |          | 0/? [00:00<?, ?it/s]"
      ]
     },
     "metadata": {},
     "output_type": "display_data"
    },
    {
     "data": {
      "application/vnd.jupyter.widget-view+json": {
       "model_id": "b2aa8a3ae95642029fa243fe23a1636a",
       "version_major": 2,
       "version_minor": 0
      },
      "text/plain": [
       "Validation: |          | 0/? [00:00<?, ?it/s]"
      ]
     },
     "metadata": {},
     "output_type": "display_data"
    },
    {
     "data": {
      "application/vnd.jupyter.widget-view+json": {
       "model_id": "cce1d9e23a1f4a019befd74c7e676dfa",
       "version_major": 2,
       "version_minor": 0
      },
      "text/plain": [
       "Validation: |          | 0/? [00:00<?, ?it/s]"
      ]
     },
     "metadata": {},
     "output_type": "display_data"
    },
    {
     "data": {
      "application/vnd.jupyter.widget-view+json": {
       "model_id": "be5bad1630f147f7819a46910b6783d1",
       "version_major": 2,
       "version_minor": 0
      },
      "text/plain": [
       "Validation: |          | 0/? [00:00<?, ?it/s]"
      ]
     },
     "metadata": {},
     "output_type": "display_data"
    },
    {
     "data": {
      "application/vnd.jupyter.widget-view+json": {
       "model_id": "52887aa8f17443129dd993e81ba7595b",
       "version_major": 2,
       "version_minor": 0
      },
      "text/plain": [
       "Validation: |          | 0/? [00:00<?, ?it/s]"
      ]
     },
     "metadata": {},
     "output_type": "display_data"
    },
    {
     "data": {
      "application/vnd.jupyter.widget-view+json": {
       "model_id": "f86ea6fb72bf485da9ae52b8469431f0",
       "version_major": 2,
       "version_minor": 0
      },
      "text/plain": [
       "Validation: |          | 0/? [00:00<?, ?it/s]"
      ]
     },
     "metadata": {},
     "output_type": "display_data"
    },
    {
     "data": {
      "application/vnd.jupyter.widget-view+json": {
       "model_id": "ed36d646484b4592abd26f5fe351b898",
       "version_major": 2,
       "version_minor": 0
      },
      "text/plain": [
       "Validation: |          | 0/? [00:00<?, ?it/s]"
      ]
     },
     "metadata": {},
     "output_type": "display_data"
    },
    {
     "data": {
      "application/vnd.jupyter.widget-view+json": {
       "model_id": "0466a33acf8f416887846b51bbfb676e",
       "version_major": 2,
       "version_minor": 0
      },
      "text/plain": [
       "Validation: |          | 0/? [00:00<?, ?it/s]"
      ]
     },
     "metadata": {},
     "output_type": "display_data"
    },
    {
     "data": {
      "application/vnd.jupyter.widget-view+json": {
       "model_id": "071928085b4a48e5811fa83eca71a244",
       "version_major": 2,
       "version_minor": 0
      },
      "text/plain": [
       "Validation: |          | 0/? [00:00<?, ?it/s]"
      ]
     },
     "metadata": {},
     "output_type": "display_data"
    },
    {
     "data": {
      "application/vnd.jupyter.widget-view+json": {
       "model_id": "7a176aa816c34e22a5b2ddbdebf2fbb7",
       "version_major": 2,
       "version_minor": 0
      },
      "text/plain": [
       "Validation: |          | 0/? [00:00<?, ?it/s]"
      ]
     },
     "metadata": {},
     "output_type": "display_data"
    },
    {
     "data": {
      "application/vnd.jupyter.widget-view+json": {
       "model_id": "21b1ee9101c54c6e96f129821c7d9d27",
       "version_major": 2,
       "version_minor": 0
      },
      "text/plain": [
       "Validation: |          | 0/? [00:00<?, ?it/s]"
      ]
     },
     "metadata": {},
     "output_type": "display_data"
    },
    {
     "data": {
      "application/vnd.jupyter.widget-view+json": {
       "model_id": "8addb02d0d6f456d97ebf9825a153e71",
       "version_major": 2,
       "version_minor": 0
      },
      "text/plain": [
       "Validation: |          | 0/? [00:00<?, ?it/s]"
      ]
     },
     "metadata": {},
     "output_type": "display_data"
    },
    {
     "data": {
      "application/vnd.jupyter.widget-view+json": {
       "model_id": "8702cb37786f4dca84c8a49354e746c4",
       "version_major": 2,
       "version_minor": 0
      },
      "text/plain": [
       "Validation: |          | 0/? [00:00<?, ?it/s]"
      ]
     },
     "metadata": {},
     "output_type": "display_data"
    },
    {
     "data": {
      "application/vnd.jupyter.widget-view+json": {
       "model_id": "19b4692d200e40efb57b553b164ca69c",
       "version_major": 2,
       "version_minor": 0
      },
      "text/plain": [
       "Validation: |          | 0/? [00:00<?, ?it/s]"
      ]
     },
     "metadata": {},
     "output_type": "display_data"
    },
    {
     "data": {
      "application/vnd.jupyter.widget-view+json": {
       "model_id": "d7025af6823c46749709e0c53c2cbd9a",
       "version_major": 2,
       "version_minor": 0
      },
      "text/plain": [
       "Validation: |          | 0/? [00:00<?, ?it/s]"
      ]
     },
     "metadata": {},
     "output_type": "display_data"
    },
    {
     "data": {
      "application/vnd.jupyter.widget-view+json": {
       "model_id": "961fe11dd592497c95d41c7150273948",
       "version_major": 2,
       "version_minor": 0
      },
      "text/plain": [
       "Validation: |          | 0/? [00:00<?, ?it/s]"
      ]
     },
     "metadata": {},
     "output_type": "display_data"
    },
    {
     "data": {
      "application/vnd.jupyter.widget-view+json": {
       "model_id": "9cf677f9f5fb4379aaf6936422bc731a",
       "version_major": 2,
       "version_minor": 0
      },
      "text/plain": [
       "Validation: |          | 0/? [00:00<?, ?it/s]"
      ]
     },
     "metadata": {},
     "output_type": "display_data"
    },
    {
     "data": {
      "application/vnd.jupyter.widget-view+json": {
       "model_id": "8fd8d488540c4376accc2be730efbc03",
       "version_major": 2,
       "version_minor": 0
      },
      "text/plain": [
       "Validation: |          | 0/? [00:00<?, ?it/s]"
      ]
     },
     "metadata": {},
     "output_type": "display_data"
    },
    {
     "data": {
      "application/vnd.jupyter.widget-view+json": {
       "model_id": "a21e10bf2c194b8780f53a9e92fc6fab",
       "version_major": 2,
       "version_minor": 0
      },
      "text/plain": [
       "Validation: |          | 0/? [00:00<?, ?it/s]"
      ]
     },
     "metadata": {},
     "output_type": "display_data"
    },
    {
     "data": {
      "application/vnd.jupyter.widget-view+json": {
       "model_id": "cbc6ffb0fc6a42f0a7c5bf66291e04b8",
       "version_major": 2,
       "version_minor": 0
      },
      "text/plain": [
       "Validation: |          | 0/? [00:00<?, ?it/s]"
      ]
     },
     "metadata": {},
     "output_type": "display_data"
    },
    {
     "data": {
      "application/vnd.jupyter.widget-view+json": {
       "model_id": "1d37170dbf434c6b8dc64e4bb6fd4d53",
       "version_major": 2,
       "version_minor": 0
      },
      "text/plain": [
       "Validation: |          | 0/? [00:00<?, ?it/s]"
      ]
     },
     "metadata": {},
     "output_type": "display_data"
    },
    {
     "data": {
      "application/vnd.jupyter.widget-view+json": {
       "model_id": "f5985739e67c4e83807ce7f8050610f4",
       "version_major": 2,
       "version_minor": 0
      },
      "text/plain": [
       "Validation: |          | 0/? [00:00<?, ?it/s]"
      ]
     },
     "metadata": {},
     "output_type": "display_data"
    },
    {
     "data": {
      "application/vnd.jupyter.widget-view+json": {
       "model_id": "c8dd73cd5fd1492eb5267fd3dbebd0e0",
       "version_major": 2,
       "version_minor": 0
      },
      "text/plain": [
       "Validation: |          | 0/? [00:00<?, ?it/s]"
      ]
     },
     "metadata": {},
     "output_type": "display_data"
    },
    {
     "data": {
      "application/vnd.jupyter.widget-view+json": {
       "model_id": "e73e9739dfec42618c1d754eb8d2d63c",
       "version_major": 2,
       "version_minor": 0
      },
      "text/plain": [
       "Validation: |          | 0/? [00:00<?, ?it/s]"
      ]
     },
     "metadata": {},
     "output_type": "display_data"
    },
    {
     "data": {
      "application/vnd.jupyter.widget-view+json": {
       "model_id": "64cbcf4910ed400a8d7ca6e1931151a3",
       "version_major": 2,
       "version_minor": 0
      },
      "text/plain": [
       "Validation: |          | 0/? [00:00<?, ?it/s]"
      ]
     },
     "metadata": {},
     "output_type": "display_data"
    },
    {
     "data": {
      "application/vnd.jupyter.widget-view+json": {
       "model_id": "4e9bae89bad64dc3b017d764c2cfdca6",
       "version_major": 2,
       "version_minor": 0
      },
      "text/plain": [
       "Validation: |          | 0/? [00:00<?, ?it/s]"
      ]
     },
     "metadata": {},
     "output_type": "display_data"
    },
    {
     "data": {
      "application/vnd.jupyter.widget-view+json": {
       "model_id": "e403bd607a04429a863f6ed2a13a6937",
       "version_major": 2,
       "version_minor": 0
      },
      "text/plain": [
       "Validation: |          | 0/? [00:00<?, ?it/s]"
      ]
     },
     "metadata": {},
     "output_type": "display_data"
    },
    {
     "data": {
      "application/vnd.jupyter.widget-view+json": {
       "model_id": "87fe689a666447348d242cb814f56bb6",
       "version_major": 2,
       "version_minor": 0
      },
      "text/plain": [
       "Validation: |          | 0/? [00:00<?, ?it/s]"
      ]
     },
     "metadata": {},
     "output_type": "display_data"
    },
    {
     "data": {
      "application/vnd.jupyter.widget-view+json": {
       "model_id": "9377b9a267a24acb95db168827aba700",
       "version_major": 2,
       "version_minor": 0
      },
      "text/plain": [
       "Validation: |          | 0/? [00:00<?, ?it/s]"
      ]
     },
     "metadata": {},
     "output_type": "display_data"
    },
    {
     "data": {
      "application/vnd.jupyter.widget-view+json": {
       "model_id": "fb5bd996ef334fc284e60f0cd192265d",
       "version_major": 2,
       "version_minor": 0
      },
      "text/plain": [
       "Validation: |          | 0/? [00:00<?, ?it/s]"
      ]
     },
     "metadata": {},
     "output_type": "display_data"
    },
    {
     "data": {
      "application/vnd.jupyter.widget-view+json": {
       "model_id": "0f46f79cfe7b46628177530166f68a7d",
       "version_major": 2,
       "version_minor": 0
      },
      "text/plain": [
       "Validation: |          | 0/? [00:00<?, ?it/s]"
      ]
     },
     "metadata": {},
     "output_type": "display_data"
    },
    {
     "data": {
      "application/vnd.jupyter.widget-view+json": {
       "model_id": "38f1356f665340399ba9d7e78497e658",
       "version_major": 2,
       "version_minor": 0
      },
      "text/plain": [
       "Validation: |          | 0/? [00:00<?, ?it/s]"
      ]
     },
     "metadata": {},
     "output_type": "display_data"
    },
    {
     "data": {
      "application/vnd.jupyter.widget-view+json": {
       "model_id": "c0f890725a8d4d9ca719b51a472968da",
       "version_major": 2,
       "version_minor": 0
      },
      "text/plain": [
       "Validation: |          | 0/? [00:00<?, ?it/s]"
      ]
     },
     "metadata": {},
     "output_type": "display_data"
    },
    {
     "data": {
      "text/plain": [
       "RNNModel(model=LSTM, hidden_dim=80, n_rnn_layers=1, dropout=0.1, training_length=24, batch_size=32, n_epochs=100, optimizer_kwargs={'lr': 0.0005}, model_name=CPI_LSTM, random_state=42, input_chunk_length=24, force_reset=True, save_checkpoints=True)"
      ]
     },
     "execution_count": 119,
     "metadata": {},
     "output_type": "execute_result"
    }
   ],
   "source": [
    "# === 7. Entraînement ===\n",
    "model.fit(\n",
    "    train,\n",
    "    future_covariates=covariates,\n",
    "    val_series=val,\n",
    "    val_future_covariates=covariates,\n",
    "    verbose=True\n",
    ")"
   ]
  },
  {
   "cell_type": "code",
   "execution_count": 120,
   "metadata": {},
   "outputs": [
    {
     "data": {
      "application/vnd.jupyter.widget-view+json": {
       "model_id": "8e169cd03c2f4e2d83562e90f39daeec",
       "version_major": 2,
       "version_minor": 0
      },
      "text/plain": [
       "Predicting: |          | 0/? [00:00<?, ?it/s]"
      ]
     },
     "metadata": {},
     "output_type": "display_data"
    },
    {
     "name": "stdout",
     "output_type": "stream",
     "text": [
      "MAE: 0.0261, MSE: 0.0007\n"
     ]
    }
   ],
   "source": [
    "# === 8. Prédictions ===\n",
    "pred_series = model.predict(n=len(val), future_covariates=covariates)\n",
    "\n",
    "# === 9. Calcul des métriques ===\n",
    "mae_score = mae(val, pred_series)\n",
    "mse_score = mse(val, pred_series)\n",
    "\n",
    "print(f\"MAE: {mae_score:.4f}, MSE: {mse_score:.4f}\")"
   ]
  },
  {
   "cell_type": "code",
   "execution_count": 121,
   "metadata": {},
   "outputs": [
    {
     "data": {
      "text/plain": [
       "0       24.187\n",
       "1       24.517\n",
       "2       24.487\n",
       "3       24.565\n",
       "4       24.542\n",
       "        ...   \n",
       "763    115.662\n",
       "764    116.574\n",
       "765    116.792\n",
       "766    116.756\n",
       "767    117.123\n",
       "Name: All Items, Length: 768, dtype: float64"
      ]
     },
     "execution_count": 121,
     "metadata": {},
     "output_type": "execute_result"
    }
   ],
   "source": [
    "dataframe[\"All Items\"]"
   ]
  },
  {
   "cell_type": "code",
   "execution_count": 122,
   "metadata": {},
   "outputs": [
    {
     "data": {
      "application/vnd.plotly.v1+json": {
       "config": {
        "plotlyServerURL": "https://plot.ly"
       },
       "data": [
        {
         "line": {
          "color": "blue",
          "width": 2
         },
         "mode": "lines",
         "name": "Réel",
         "type": "scatter",
         "x": [
          "1961-Apr",
          "1961-Aug",
          "1961-Dec",
          "1961-Feb",
          "1961-Jan",
          "1961-Jul",
          "1961-Jun",
          "1961-Mar",
          "1961-May",
          "1961-Nov",
          "1961-Oct",
          "1961-Sep",
          "1962-Apr",
          "1962-Aug",
          "1962-Dec",
          "1962-Feb",
          "1962-Jan",
          "1962-Jul",
          "1962-Jun",
          "1962-Mar",
          "1962-May",
          "1962-Nov",
          "1962-Oct",
          "1962-Sep",
          "1963-Apr",
          "1963-Aug",
          "1963-Dec",
          "1963-Feb",
          "1963-Jan",
          "1963-Jul",
          "1963-Jun",
          "1963-Mar",
          "1963-May",
          "1963-Nov",
          "1963-Oct",
          "1963-Sep",
          "1964-Apr",
          "1964-Aug",
          "1964-Dec",
          "1964-Feb",
          "1964-Jan",
          "1964-Jul",
          "1964-Jun",
          "1964-Mar",
          "1964-May",
          "1964-Nov",
          "1964-Oct",
          "1964-Sep",
          "1965-Apr",
          "1965-Aug",
          "1965-Dec",
          "1965-Feb",
          "1965-Jan",
          "1965-Jul",
          "1965-Jun",
          "1965-Mar",
          "1965-May",
          "1965-Nov",
          "1965-Oct",
          "1965-Sep",
          "1966-Apr",
          "1966-Aug",
          "1966-Dec",
          "1966-Feb",
          "1966-Jan",
          "1966-Jul",
          "1966-Jun",
          "1966-Mar",
          "1966-May",
          "1966-Nov",
          "1966-Oct",
          "1966-Sep",
          "1967-Apr",
          "1967-Aug",
          "1967-Dec",
          "1967-Feb",
          "1967-Jan",
          "1967-Jul",
          "1967-Jun",
          "1967-Mar",
          "1967-May",
          "1967-Nov",
          "1967-Oct",
          "1967-Sep",
          "1968-Apr",
          "1968-Aug",
          "1968-Dec",
          "1968-Feb",
          "1968-Jan",
          "1968-Jul",
          "1968-Jun",
          "1968-Mar",
          "1968-May",
          "1968-Nov",
          "1968-Oct",
          "1968-Sep",
          "1969-Apr",
          "1969-Aug",
          "1969-Dec",
          "1969-Feb",
          "1969-Jan",
          "1969-Jul",
          "1969-Jun",
          "1969-Mar",
          "1969-May",
          "1969-Nov",
          "1969-Oct",
          "1969-Sep",
          "1970-Apr",
          "1970-Aug",
          "1970-Dec",
          "1970-Feb",
          "1970-Jan",
          "1970-Jul",
          "1970-Jun",
          "1970-Mar",
          "1970-May",
          "1970-Nov",
          "1970-Oct",
          "1970-Sep",
          "1971-Apr",
          "1971-Aug",
          "1971-Dec",
          "1971-Feb",
          "1971-Jan",
          "1971-Jul",
          "1971-Jun",
          "1971-Mar",
          "1971-May",
          "1971-Nov",
          "1971-Oct",
          "1971-Sep",
          "1972-Apr",
          "1972-Aug",
          "1972-Dec",
          "1972-Feb",
          "1972-Jan",
          "1972-Jul",
          "1972-Jun",
          "1972-Mar",
          "1972-May",
          "1972-Nov",
          "1972-Oct",
          "1972-Sep",
          "1973-Apr",
          "1973-Aug",
          "1973-Dec",
          "1973-Feb",
          "1973-Jan",
          "1973-Jul",
          "1973-Jun",
          "1973-Mar",
          "1973-May",
          "1973-Nov",
          "1973-Oct",
          "1973-Sep",
          "1974-Apr",
          "1974-Aug",
          "1974-Dec",
          "1974-Feb",
          "1974-Jan",
          "1974-Jul",
          "1974-Jun",
          "1974-Mar",
          "1974-May",
          "1974-Nov",
          "1974-Oct",
          "1974-Sep",
          "1975-Apr",
          "1975-Aug",
          "1975-Dec",
          "1975-Feb",
          "1975-Jan",
          "1975-Jul",
          "1975-Jun",
          "1975-Mar",
          "1975-May",
          "1975-Nov",
          "1975-Oct",
          "1975-Sep",
          "1976-Apr",
          "1976-Aug",
          "1976-Dec",
          "1976-Feb",
          "1976-Jan",
          "1976-Jul",
          "1976-Jun",
          "1976-Mar",
          "1976-May",
          "1976-Nov",
          "1976-Oct",
          "1976-Sep",
          "1977-Apr",
          "1977-Aug",
          "1977-Dec",
          "1977-Feb",
          "1977-Jan",
          "1977-Jul",
          "1977-Jun",
          "1977-Mar",
          "1977-May",
          "1977-Nov",
          "1977-Oct",
          "1977-Sep",
          "1978-Apr",
          "1978-Aug",
          "1978-Dec",
          "1978-Feb",
          "1978-Jan",
          "1978-Jul",
          "1978-Jun",
          "1978-Mar",
          "1978-May",
          "1978-Nov",
          "1978-Oct",
          "1978-Sep",
          "1979-Apr",
          "1979-Aug",
          "1979-Dec",
          "1979-Feb",
          "1979-Jan",
          "1979-Jul",
          "1979-Jun",
          "1979-Mar",
          "1979-May",
          "1979-Nov",
          "1979-Oct",
          "1979-Sep",
          "1980-Apr",
          "1980-Aug",
          "1980-Dec",
          "1980-Feb",
          "1980-Jan",
          "1980-Jul",
          "1980-Jun",
          "1980-Mar",
          "1980-May",
          "1980-Nov",
          "1980-Oct",
          "1980-Sep",
          "1981-Apr",
          "1981-Aug",
          "1981-Dec",
          "1981-Feb",
          "1981-Jan",
          "1981-Jul",
          "1981-Jun",
          "1981-Mar",
          "1981-May",
          "1981-Nov",
          "1981-Oct",
          "1981-Sep",
          "1982-Apr",
          "1982-Aug",
          "1982-Dec",
          "1982-Feb",
          "1982-Jan",
          "1982-Jul",
          "1982-Jun",
          "1982-Mar",
          "1982-May",
          "1982-Nov",
          "1982-Oct",
          "1982-Sep",
          "1983-Apr",
          "1983-Aug",
          "1983-Dec",
          "1983-Feb",
          "1983-Jan",
          "1983-Jul",
          "1983-Jun",
          "1983-Mar",
          "1983-May",
          "1983-Nov",
          "1983-Oct",
          "1983-Sep",
          "1984-Apr",
          "1984-Aug",
          "1984-Dec",
          "1984-Feb",
          "1984-Jan",
          "1984-Jul",
          "1984-Jun",
          "1984-Mar",
          "1984-May",
          "1984-Nov",
          "1984-Oct",
          "1984-Sep",
          "1985-Apr",
          "1985-Aug",
          "1985-Dec",
          "1985-Feb",
          "1985-Jan",
          "1985-Jul",
          "1985-Jun",
          "1985-Mar",
          "1985-May",
          "1985-Nov",
          "1985-Oct",
          "1985-Sep",
          "1986-Apr",
          "1986-Aug",
          "1986-Dec",
          "1986-Feb",
          "1986-Jan",
          "1986-Jul",
          "1986-Jun",
          "1986-Mar",
          "1986-May",
          "1986-Nov",
          "1986-Oct",
          "1986-Sep",
          "1987-Apr",
          "1987-Aug",
          "1987-Dec",
          "1987-Feb",
          "1987-Jan",
          "1987-Jul",
          "1987-Jun",
          "1987-Mar",
          "1987-May",
          "1987-Nov",
          "1987-Oct",
          "1987-Sep",
          "1988-Apr",
          "1988-Aug",
          "1988-Dec",
          "1988-Feb",
          "1988-Jan",
          "1988-Jul",
          "1988-Jun",
          "1988-Mar",
          "1988-May",
          "1988-Nov",
          "1988-Oct",
          "1988-Sep",
          "1989-Apr",
          "1989-Aug",
          "1989-Dec",
          "1989-Feb",
          "1989-Jan",
          "1989-Jul",
          "1989-Jun",
          "1989-Mar",
          "1989-May",
          "1989-Nov",
          "1989-Oct",
          "1989-Sep",
          "1990-Apr",
          "1990-Aug",
          "1990-Dec",
          "1990-Feb",
          "1990-Jan",
          "1990-Jul",
          "1990-Jun",
          "1990-Mar",
          "1990-May",
          "1990-Nov",
          "1990-Oct",
          "1990-Sep",
          "1991-Apr",
          "1991-Aug",
          "1991-Dec",
          "1991-Feb",
          "1991-Jan",
          "1991-Jul",
          "1991-Jun",
          "1991-Mar",
          "1991-May",
          "1991-Nov",
          "1991-Oct",
          "1991-Sep",
          "1992-Apr",
          "1992-Aug",
          "1992-Dec",
          "1992-Feb",
          "1992-Jan",
          "1992-Jul",
          "1992-Jun",
          "1992-Mar",
          "1992-May",
          "1992-Nov",
          "1992-Oct",
          "1992-Sep",
          "1993-Apr",
          "1993-Aug",
          "1993-Dec",
          "1993-Feb",
          "1993-Jan",
          "1993-Jul",
          "1993-Jun",
          "1993-Mar",
          "1993-May",
          "1993-Nov",
          "1993-Oct",
          "1993-Sep",
          "1994-Apr",
          "1994-Aug",
          "1994-Dec",
          "1994-Feb",
          "1994-Jan",
          "1994-Jul",
          "1994-Jun",
          "1994-Mar",
          "1994-May",
          "1994-Nov",
          "1994-Oct",
          "1994-Sep",
          "1995-Apr",
          "1995-Aug",
          "1995-Dec",
          "1995-Feb",
          "1995-Jan",
          "1995-Jul",
          "1995-Jun",
          "1995-Mar",
          "1995-May",
          "1995-Nov",
          "1995-Oct",
          "1995-Sep",
          "1996-Apr",
          "1996-Aug",
          "1996-Dec",
          "1996-Feb",
          "1996-Jan",
          "1996-Jul",
          "1996-Jun",
          "1996-Mar",
          "1996-May",
          "1996-Nov",
          "1996-Oct",
          "1996-Sep",
          "1997-Apr",
          "1997-Aug",
          "1997-Dec",
          "1997-Feb",
          "1997-Jan",
          "1997-Jul",
          "1997-Jun",
          "1997-Mar",
          "1997-May",
          "1997-Nov",
          "1997-Oct",
          "1997-Sep",
          "1998-Apr",
          "1998-Aug",
          "1998-Dec",
          "1998-Feb",
          "1998-Jan",
          "1998-Jul",
          "1998-Jun",
          "1998-Mar",
          "1998-May",
          "1998-Nov",
          "1998-Oct",
          "1998-Sep",
          "1999-Apr",
          "1999-Aug",
          "1999-Dec",
          "1999-Feb",
          "1999-Jan",
          "1999-Jul",
          "1999-Jun",
          "1999-Mar",
          "1999-May",
          "1999-Nov",
          "1999-Oct",
          "1999-Sep",
          "2000-Apr",
          "2000-Aug",
          "2000-Dec",
          "2000-Feb",
          "2000-Jan",
          "2000-Jul",
          "2000-Jun",
          "2000-Mar",
          "2000-May",
          "2000-Nov",
          "2000-Oct",
          "2000-Sep",
          "2001-Apr",
          "2001-Aug",
          "2001-Dec",
          "2001-Feb",
          "2001-Jan",
          "2001-Jul",
          "2001-Jun",
          "2001-Mar",
          "2001-May",
          "2001-Nov",
          "2001-Oct",
          "2001-Sep",
          "2002-Apr",
          "2002-Aug",
          "2002-Dec",
          "2002-Feb",
          "2002-Jan",
          "2002-Jul",
          "2002-Jun",
          "2002-Mar",
          "2002-May",
          "2002-Nov",
          "2002-Oct",
          "2002-Sep",
          "2003-Apr",
          "2003-Aug",
          "2003-Dec",
          "2003-Feb",
          "2003-Jan",
          "2003-Jul",
          "2003-Jun",
          "2003-Mar",
          "2003-May",
          "2003-Nov",
          "2003-Oct",
          "2003-Sep",
          "2004-Apr",
          "2004-Aug",
          "2004-Dec",
          "2004-Feb",
          "2004-Jan",
          "2004-Jul",
          "2004-Jun",
          "2004-Mar",
          "2004-May",
          "2004-Nov",
          "2004-Oct",
          "2004-Sep",
          "2005-Apr",
          "2005-Aug",
          "2005-Dec",
          "2005-Feb",
          "2005-Jan",
          "2005-Jul",
          "2005-Jun",
          "2005-Mar",
          "2005-May",
          "2005-Nov",
          "2005-Oct",
          "2005-Sep",
          "2006-Apr",
          "2006-Aug",
          "2006-Dec",
          "2006-Feb",
          "2006-Jan",
          "2006-Jul",
          "2006-Jun",
          "2006-Mar",
          "2006-May",
          "2006-Nov",
          "2006-Oct",
          "2006-Sep",
          "2007-Apr",
          "2007-Aug",
          "2007-Dec",
          "2007-Feb",
          "2007-Jan",
          "2007-Jul",
          "2007-Jun",
          "2007-Mar",
          "2007-May",
          "2007-Nov",
          "2007-Oct",
          "2007-Sep",
          "2008-Apr",
          "2008-Aug",
          "2008-Dec",
          "2008-Feb",
          "2008-Jan",
          "2008-Jul",
          "2008-Jun",
          "2008-Mar",
          "2008-May",
          "2008-Nov",
          "2008-Oct",
          "2008-Sep",
          "2009-Apr",
          "2009-Aug",
          "2009-Dec",
          "2009-Feb",
          "2009-Jan",
          "2009-Jul",
          "2009-Jun",
          "2009-Mar",
          "2009-May",
          "2009-Nov",
          "2009-Oct",
          "2009-Sep",
          "2010-Apr",
          "2010-Aug",
          "2010-Dec",
          "2010-Feb",
          "2010-Jan",
          "2010-Jul",
          "2010-Jun",
          "2010-Mar",
          "2010-May",
          "2010-Nov",
          "2010-Oct",
          "2010-Sep",
          "2011-Apr",
          "2011-Aug",
          "2011-Dec",
          "2011-Feb",
          "2011-Jan",
          "2011-Jul",
          "2011-Jun",
          "2011-Mar",
          "2011-May",
          "2011-Nov",
          "2011-Oct",
          "2011-Sep",
          "2012-Apr",
          "2012-Aug",
          "2012-Dec",
          "2012-Feb",
          "2012-Jan",
          "2012-Jul",
          "2012-Jun",
          "2012-Mar",
          "2012-May",
          "2012-Nov",
          "2012-Oct",
          "2012-Sep",
          "2013-Apr",
          "2013-Aug",
          "2013-Dec",
          "2013-Feb",
          "2013-Jan",
          "2013-Jul",
          "2013-Jun",
          "2013-Mar",
          "2013-May",
          "2013-Nov",
          "2013-Oct",
          "2013-Sep",
          "2014-Apr",
          "2014-Aug",
          "2014-Dec",
          "2014-Feb",
          "2014-Jan",
          "2014-Jul",
          "2014-Jun",
          "2014-Mar",
          "2014-May",
          "2014-Nov",
          "2014-Oct",
          "2014-Sep",
          "2015-Apr",
          "2015-Aug",
          "2015-Dec",
          "2015-Feb",
          "2015-Jan",
          "2015-Jul",
          "2015-Jun",
          "2015-Mar",
          "2015-May",
          "2015-Nov",
          "2015-Oct",
          "2015-Sep",
          "2016-Apr",
          "2016-Aug",
          "2016-Dec",
          "2016-Feb",
          "2016-Jan",
          "2016-Jul",
          "2016-Jun",
          "2016-Mar",
          "2016-May",
          "2016-Nov",
          "2016-Oct",
          "2016-Sep",
          "2017-Apr",
          "2017-Aug",
          "2017-Dec",
          "2017-Feb",
          "2017-Jan",
          "2017-Jul",
          "2017-Jun",
          "2017-Mar",
          "2017-May",
          "2017-Nov",
          "2017-Oct",
          "2017-Sep",
          "2018-Apr",
          "2018-Aug",
          "2018-Dec",
          "2018-Feb",
          "2018-Jan",
          "2018-Jul",
          "2018-Jun",
          "2018-Mar",
          "2018-May",
          "2018-Nov",
          "2018-Oct",
          "2018-Sep",
          "2019-Apr",
          "2019-Aug",
          "2019-Dec",
          "2019-Feb",
          "2019-Jan",
          "2019-Jul",
          "2019-Jun",
          "2019-Mar",
          "2019-May",
          "2019-Nov",
          "2019-Oct",
          "2019-Sep",
          "2020-Apr",
          "2020-Aug",
          "2020-Dec",
          "2020-Feb",
          "2020-Jan",
          "2020-Jul",
          "2020-Jun",
          "2020-Mar",
          "2020-May",
          "2020-Nov",
          "2020-Oct",
          "2020-Sep",
          "2021-Apr",
          "2021-Aug",
          "2021-Dec",
          "2021-Feb",
          "2021-Jan",
          "2021-Jul",
          "2021-Jun",
          "2021-Mar",
          "2021-May",
          "2021-Nov",
          "2021-Oct",
          "2021-Sep",
          "2022-Apr",
          "2022-Aug",
          "2022-Dec",
          "2022-Feb",
          "2022-Jan",
          "2022-Jul",
          "2022-Jun",
          "2022-Mar",
          "2022-May",
          "2022-Nov",
          "2022-Oct",
          "2022-Sep",
          "2023-Apr",
          "2023-Aug",
          "2023-Dec",
          "2023-Feb",
          "2023-Jan",
          "2023-Jul",
          "2023-Jun",
          "2023-Mar",
          "2023-May",
          "2023-Nov",
          "2023-Oct",
          "2023-Sep",
          "2024-Apr",
          "2024-Aug",
          "2024-Dec",
          "2024-Feb",
          "2024-Jan",
          "2024-Jul",
          "2024-Jun",
          "2024-Mar",
          "2024-May",
          "2024-Nov",
          "2024-Oct",
          "2024-Sep"
         ],
         "y": [
          24.187,
          24.517,
          24.487,
          24.565,
          24.542,
          24.276,
          24.223,
          24.585,
          24.053,
          24.521,
          24.463,
          24.393,
          24.303,
          24.424,
          24.696,
          24.78,
          24.642,
          24.499,
          24.442,
          24.425,
          24.327,
          24.627,
          24.469,
          24.523,
          24.63,
          24.825,
          25.386,
          25.354,
          25.17,
          24.764,
          24.832,
          24.879,
          24.756,
          25.34,
          25.525,
          24.934,
          25.209,
          25.674,
          25.68,
          25.637,
          25.541,
          25.257,
          25.137,
          25.545,
          25.213,
          25.429,
          25.444,
          25.606,
          25.122,
          25.411,
          25.937,
          25.661,
          25.742,
          25.256,
          25.412,
          25.491,
          25.32,
          25.747,
          25.564,
          25.494,
          25.901,
          26.199,
          26.306,
          26.01,
          26.251,
          26.018,
          25.923,
          25.803,
          25.849,
          26.145,
          25.886,
          26.042,
          26.171,
          26.967,
          27.569,
          26.72,
          26.704,
          27.08,
          26.711,
          26.583,
          26.406,
          27.329,
          27.076,
          27.175,
          27.12,
          27.179,
          26.817,
          27.281,
          27.588,
          26.969,
          26.832,
          27.183,
          26.832,
          26.902,
          26.972,
          27.019,
          26.839,
          27.01,
          27.496,
          26.793,
          26.843,
          26.884,
          26.962,
          26.936,
          27.1,
          27.118,
          26.847,
          27.04,
          26.931,
          27.159,
          27.263,
          27.224,
          27.104,
          27.181,
          26.914,
          26.889,
          26.949,
          27.08,
          27.142,
          27.114,
          27.116,
          27.49,
          27.942,
          27.573,
          28.068,
          27.624,
          27.482,
          27.444,
          27.405,
          27.691,
          27.536,
          27.701,
          27.594,
          28.215,
          29.583,
          27.97,
          27.979,
          27.968,
          27.8,
          27.916,
          27.703,
          28.648,
          28.372,
          28.415,
          30.833,
          35.261,
          37.635,
          30.515,
          29.496,
          34.865,
          33.282,
          30.634,
          32.203,
          38.039,
          36.469,
          35.268,
          40.674,
          41.456,
          42.702,
          40.427,
          39.274,
          41.177,
          40.858,
          41.132,
          40.702,
          42.382,
          42.287,
          41.898,
          41.87,
          42.444,
          42.302,
          42.978,
          42.893,
          42.268,
          42.156,
          42.158,
          42.035,
          42.126,
          42.041,
          42.457,
          41.336,
          41.204,
          41.657,
          42.28,
          42.288,
          41.259,
          41.288,
          41.74,
          41.502,
          41.33,
          41.087,
          41.128,
          41.852,
          43.41,
          44.318,
          42.491,
          42.209,
          42.768,
          42.338,
          42.205,
          42.186,
          43.434,
          43.073,
          43.692,
          44.025,
          45.02,
          45.163,
          44.354,
          44.054,
          44.81,
          44.279,
          43.764,
          44.176,
          45.198,
          44.932,
          45.095,
          45.112,
          46.945,
          48.466,
          45.053,
          45.193,
          46.126,
          45.56,
          44.909,
          45.44,
          48.106,
          47.696,
          47.685,
          50.024,
          50.951,
          51.375,
          49.283,
          48.52,
          50.566,
          50.13,
          49.809,
          49.996,
          51.329,
          50.995,
          50.825,
          53.318,
          55.912,
          56.689,
          52.143,
          51.527,
          55.182,
          54.366,
          52.262,
          54.003,
          56.203,
          55.831,
          55.811,
          56.223,
          56.49,
          57.157,
          56.808,
          57.247,
          56.257,
          56.407,
          56.203,
          56.258,
          56.778,
          56.43,
          56.584,
          56.955,
          57.042,
          57.811,
          57.091,
          56.976,
          57.002,
          56.789,
          57.031,
          57.154,
          57.653,
          57.128,
          57.25,
          58.586,
          59.007,
          58.338,
          59.166,
          58.395,
          58.867,
          58.702,
          58.581,
          58.541,
          58.364,
          58.583,
          58.612,
          58.931,
          59.331,
          58.739,
          58.891,
          58.6,
          59.263,
          59.068,
          59.044,
          58.919,
          58.701,
          58.851,
          58.863,
          58.092,
          57.846,
          57.93,
          58.556,
          58.712,
          57.87,
          57.962,
          58.387,
          58.048,
          57.886,
          58.066,
          58.082,
          58.134,
          58.637,
          58.814,
          57.936,
          58.3,
          58.564,
          58.325,
          57.929,
          58.29,
          58.688,
          58.586,
          58.603,
          59.046,
          59.49,
          59.641,
          59.181,
          58.729,
          59.512,
          59.169,
          59.028,
          59.234,
          59.494,
          59.413,
          59.544,
          60.057,
          61.005,
          61.616,
          59.773,
          59.616,
          60.931,
          60.757,
          59.714,
          60.482,
          61.541,
          61.309,
          61.001,
          62.254,
          62.753,
          63.969,
          62.087,
          61.966,
          62.53,
          62.501,
          61.907,
          62.415,
          63.666,
          63.682,
          63.181,
          64.583,
          65.19,
          65.808,
          64.559,
          64.036,
          65.029,
          64.943,
          64.249,
          64.792,
          65.286,
          65.182,
          65.153,
          66.015,
          66.532,
          66.986,
          65.719,
          65.808,
          66.65,
          66.365,
          65.603,
          66.357,
          66.931,
          66.743,
          66.577,
          67.546,
          67.971,
          68.697,
          67.184,
          67.5,
          68.078,
          67.756,
          67.348,
          67.733,
          68.463,
          68.249,
          68.008,
          69.44,
          70.349,
          70.672,
          69.269,
          69.045,
          70.259,
          70.124,
          68.922,
          69.791,
          70.877,
          70.616,
          70.376,
          71.022,
          71.308,
          71.267,
          70.899,
          70.826,
          71.288,
          71.401,
          70.681,
          71.296,
          71.535,
          71.39,
          71.312,
          71.813,
          72.331,
          72.692,
          72.05,
          71.464,
          72.23,
          72.228,
          71.735,
          72.156,
          72.558,
          72.384,
          72.364,
          73.195,
          74.013,
          74.181,
          73.219,
          72.846,
          73.761,
          73.474,
          72.859,
          73.346,
          74.258,
          74.205,
          74.168,
          73.566,
          73.3,
          73.121,
          73.904,
          73.952,
          73.408,
          73.333,
          73.524,
          73.393,
          73.283,
          73.116,
          73.231,
          73.331,
          73.574,
          73.616,
          73.364,
          73.273,
          73.528,
          73.426,
          73.142,
          73.499,
          73.545,
          73.491,
          73.546,
          74.146,
          74.769,
          75.135,
          74.294,
          73.942,
          74.378,
          73.999,
          74.039,
          73.878,
          75.009,
          74.844,
          74.787,
          75.611,
          75.299,
          74.693,
          75.27,
          75.413,
          75.343,
          74.894,
          75.404,
          75.307,
          74.847,
          75.005,
          75.195,
          74.814,
          74.97,
          75.019,
          74.804,
          74.584,
          75.023,
          75,
          74.734,
          75.047,
          75.022,
          74.855,
          74.877,
          75.46,
          75.312,
          75.578,
          75.097,
          75.235,
          75.224,
          74.757,
          75.307,
          74.981,
          75.443,
          75.34,
          75.392,
          76.564,
          76.659,
          76.569,
          76.613,
          75.741,
          76.758,
          76.147,
          76.051,
          76.747,
          76.767,
          76.788,
          76.816,
          76.843,
          77.18,
          77.534,
          76.597,
          76.038,
          76.817,
          76.02,
          76.373,
          76.72,
          77.509,
          77.604,
          77.289,
          77.673,
          77.694,
          78.161,
          77.509,
          77.355,
          77.651,
          77.069,
          77.252,
          77.556,
          77.93,
          77.93,
          77.627,
          78.025,
          80.374,
          81.147,
          77.479,
          76.904,
          79.958,
          78.384,
          77.43,
          78.537,
          81.716,
          81.095,
          79.963,
          83.933,
          85.544,
          85.501,
          82.558,
          82.002,
          85.216,
          84.296,
          82.632,
          84.451,
          86.245,
          86.304,
          85.361,
          84.206,
          85.307,
          85.05,
          85.236,
          85.507,
          85.003,
          84.283,
          84.751,
          84.656,
          85.566,
          85.521,
          85.008,
          86.901,
          88.081,
          88.954,
          86.048,
          85.682,
          87.676,
          86.567,
          86.115,
          87.402,
          88.818,
          88.525,
          88.129,
          90.774,
          93.115,
          93.877,
          90.339,
          90.405,
          92.448,
          91.103,
          90.458,
          91.318,
          93.842,
          93.322,
          92.941,
          95.718,
          96.744,
          97.936,
          94.491,
          94.748,
          96.146,
          95.924,
          95.207,
          95.917,
          97.225,
          97.1,
          97.298,
          97.112,
          98.718,
          99.404,
          99.107,
          98.121,
          97.929,
          97.656,
          98.574,
          97.457,
          99.72,
          99.02,
          98.865,
          99.342,
          99.742,
          99.328,
          99.484,
          99.506,
          99.213,
          99.508,
          99.749,
          99.676,
          99.441,
          99.255,
          99.553,
          98.829,
          98.911,
          98.693,
          99.211,
          99.114,
          98.818,
          99.171,
          99.449,
          99.279,
          98.684,
          98.487,
          98.912,
          98.365,
          98.657,
          98.854,
          98.375,
          98.476,
          98.173,
          98.449,
          98.416,
          97.724,
          98.699,
          98.383,
          98.666,
          98.762,
          99.056,
          99.225,
          99.023,
          99.026,
          98.726,
          98.956,
          99.064,
          99.098,
          99.322,
          98.75,
          99.036,
          98.833,
          99.778,
          99.686,
          99.501,
          99.035,
          99.359,
          99.505,
          99.299,
          99.449,
          99.61,
          99.447,
          99.753,
          99.753,
          100.209,
          100.445,
          99.953,
          99.387,
          99.587,
          100.038,
          99.972,
          100.325,
          100.254,
          99.93,
          100.147,
          99.012,
          99.807,
          100.469,
          100.279,
          100.204,
          99.178,
          99.5,
          99.933,
          99.48,
          100.105,
          99.711,
          100.139,
          101.07,
          102.231,
          104.439,
          101.015,
          100.44,
          101.672,
          101.87,
          101.239,
          101.883,
          103.959,
          102.95,
          102.657,
          106.547,
          109.863,
          111.186,
          105.379,
          104.472,
          108.836,
          108.671,
          106.691,
          107.598,
          110.959,
          109.893,
          110.339,
          112.669,
          114.303,
          115.343,
          112.019,
          111.397,
          113.309,
          113.576,
          112.583,
          113.034,
          114.91,
          115.111,
          114.88,
          115.764,
          116.829,
          117.197,
          115.772,
          114.572,
          116.028,
          116.323,
          115.662,
          116.574,
          116.792,
          116.756,
          117.123
         ]
        },
        {
         "line": {
          "color": "red",
          "width": 2
         },
         "mode": "lines",
         "name": "Prédictions",
         "type": "scatter",
         "x": [
          "2022-Jul",
          "2022-Jun",
          "2022-Mar",
          "2022-May",
          "2022-Nov",
          "2022-Oct",
          "2022-Sep",
          "2023-Apr",
          "2023-Aug",
          "2023-Dec",
          "2023-Feb",
          "2023-Jan",
          "2023-Jul",
          "2023-Jun",
          "2023-Mar",
          "2023-May",
          "2023-Nov",
          "2023-Oct",
          "2023-Sep",
          "2024-Apr",
          "2024-Aug",
          "2024-Dec",
          "2024-Feb",
          "2024-Jan",
          "2024-Jul",
          "2024-Jun",
          "2024-Mar",
          "2024-May",
          "2024-Nov",
          "2024-Oct",
          "2024-Sep"
         ],
         "y": [
          107.11478876119712,
          107.45487439827278,
          108.05495297216048,
          108.26754764050904,
          108.32399097247614,
          108.90361723565786,
          109.05181442860709,
          109.45901276463412,
          109.67404440846367,
          109.82916568519076,
          109.94783446438083,
          110.39578254210039,
          110.42073976670703,
          110.79443305198295,
          111.40585053456209,
          111.56481494072605,
          111.55245902958272,
          112.1302062519839,
          112.25360119574268,
          112.67246556786793,
          112.85067357050198,
          112.98499687461604,
          113.06055237564452,
          113.49708945685856,
          113.50167676237402,
          113.84490152502984,
          114.4673490459991,
          114.59324661250555,
          114.52590626701438,
          115.1065015865037,
          115.20907181976062
         ]
        }
       ],
       "layout": {
        "legend": {
         "x": 0,
         "y": 1
        },
        "template": {
         "data": {
          "bar": [
           {
            "error_x": {
             "color": "#2a3f5f"
            },
            "error_y": {
             "color": "#2a3f5f"
            },
            "marker": {
             "line": {
              "color": "white",
              "width": 0.5
             },
             "pattern": {
              "fillmode": "overlay",
              "size": 10,
              "solidity": 0.2
             }
            },
            "type": "bar"
           }
          ],
          "barpolar": [
           {
            "marker": {
             "line": {
              "color": "white",
              "width": 0.5
             },
             "pattern": {
              "fillmode": "overlay",
              "size": 10,
              "solidity": 0.2
             }
            },
            "type": "barpolar"
           }
          ],
          "carpet": [
           {
            "aaxis": {
             "endlinecolor": "#2a3f5f",
             "gridcolor": "#C8D4E3",
             "linecolor": "#C8D4E3",
             "minorgridcolor": "#C8D4E3",
             "startlinecolor": "#2a3f5f"
            },
            "baxis": {
             "endlinecolor": "#2a3f5f",
             "gridcolor": "#C8D4E3",
             "linecolor": "#C8D4E3",
             "minorgridcolor": "#C8D4E3",
             "startlinecolor": "#2a3f5f"
            },
            "type": "carpet"
           }
          ],
          "choropleth": [
           {
            "colorbar": {
             "outlinewidth": 0,
             "ticks": ""
            },
            "type": "choropleth"
           }
          ],
          "contour": [
           {
            "colorbar": {
             "outlinewidth": 0,
             "ticks": ""
            },
            "colorscale": [
             [
              0,
              "#0d0887"
             ],
             [
              0.1111111111111111,
              "#46039f"
             ],
             [
              0.2222222222222222,
              "#7201a8"
             ],
             [
              0.3333333333333333,
              "#9c179e"
             ],
             [
              0.4444444444444444,
              "#bd3786"
             ],
             [
              0.5555555555555556,
              "#d8576b"
             ],
             [
              0.6666666666666666,
              "#ed7953"
             ],
             [
              0.7777777777777778,
              "#fb9f3a"
             ],
             [
              0.8888888888888888,
              "#fdca26"
             ],
             [
              1,
              "#f0f921"
             ]
            ],
            "type": "contour"
           }
          ],
          "contourcarpet": [
           {
            "colorbar": {
             "outlinewidth": 0,
             "ticks": ""
            },
            "type": "contourcarpet"
           }
          ],
          "heatmap": [
           {
            "colorbar": {
             "outlinewidth": 0,
             "ticks": ""
            },
            "colorscale": [
             [
              0,
              "#0d0887"
             ],
             [
              0.1111111111111111,
              "#46039f"
             ],
             [
              0.2222222222222222,
              "#7201a8"
             ],
             [
              0.3333333333333333,
              "#9c179e"
             ],
             [
              0.4444444444444444,
              "#bd3786"
             ],
             [
              0.5555555555555556,
              "#d8576b"
             ],
             [
              0.6666666666666666,
              "#ed7953"
             ],
             [
              0.7777777777777778,
              "#fb9f3a"
             ],
             [
              0.8888888888888888,
              "#fdca26"
             ],
             [
              1,
              "#f0f921"
             ]
            ],
            "type": "heatmap"
           }
          ],
          "heatmapgl": [
           {
            "colorbar": {
             "outlinewidth": 0,
             "ticks": ""
            },
            "colorscale": [
             [
              0,
              "#0d0887"
             ],
             [
              0.1111111111111111,
              "#46039f"
             ],
             [
              0.2222222222222222,
              "#7201a8"
             ],
             [
              0.3333333333333333,
              "#9c179e"
             ],
             [
              0.4444444444444444,
              "#bd3786"
             ],
             [
              0.5555555555555556,
              "#d8576b"
             ],
             [
              0.6666666666666666,
              "#ed7953"
             ],
             [
              0.7777777777777778,
              "#fb9f3a"
             ],
             [
              0.8888888888888888,
              "#fdca26"
             ],
             [
              1,
              "#f0f921"
             ]
            ],
            "type": "heatmapgl"
           }
          ],
          "histogram": [
           {
            "marker": {
             "pattern": {
              "fillmode": "overlay",
              "size": 10,
              "solidity": 0.2
             }
            },
            "type": "histogram"
           }
          ],
          "histogram2d": [
           {
            "colorbar": {
             "outlinewidth": 0,
             "ticks": ""
            },
            "colorscale": [
             [
              0,
              "#0d0887"
             ],
             [
              0.1111111111111111,
              "#46039f"
             ],
             [
              0.2222222222222222,
              "#7201a8"
             ],
             [
              0.3333333333333333,
              "#9c179e"
             ],
             [
              0.4444444444444444,
              "#bd3786"
             ],
             [
              0.5555555555555556,
              "#d8576b"
             ],
             [
              0.6666666666666666,
              "#ed7953"
             ],
             [
              0.7777777777777778,
              "#fb9f3a"
             ],
             [
              0.8888888888888888,
              "#fdca26"
             ],
             [
              1,
              "#f0f921"
             ]
            ],
            "type": "histogram2d"
           }
          ],
          "histogram2dcontour": [
           {
            "colorbar": {
             "outlinewidth": 0,
             "ticks": ""
            },
            "colorscale": [
             [
              0,
              "#0d0887"
             ],
             [
              0.1111111111111111,
              "#46039f"
             ],
             [
              0.2222222222222222,
              "#7201a8"
             ],
             [
              0.3333333333333333,
              "#9c179e"
             ],
             [
              0.4444444444444444,
              "#bd3786"
             ],
             [
              0.5555555555555556,
              "#d8576b"
             ],
             [
              0.6666666666666666,
              "#ed7953"
             ],
             [
              0.7777777777777778,
              "#fb9f3a"
             ],
             [
              0.8888888888888888,
              "#fdca26"
             ],
             [
              1,
              "#f0f921"
             ]
            ],
            "type": "histogram2dcontour"
           }
          ],
          "mesh3d": [
           {
            "colorbar": {
             "outlinewidth": 0,
             "ticks": ""
            },
            "type": "mesh3d"
           }
          ],
          "parcoords": [
           {
            "line": {
             "colorbar": {
              "outlinewidth": 0,
              "ticks": ""
             }
            },
            "type": "parcoords"
           }
          ],
          "pie": [
           {
            "automargin": true,
            "type": "pie"
           }
          ],
          "scatter": [
           {
            "fillpattern": {
             "fillmode": "overlay",
             "size": 10,
             "solidity": 0.2
            },
            "type": "scatter"
           }
          ],
          "scatter3d": [
           {
            "line": {
             "colorbar": {
              "outlinewidth": 0,
              "ticks": ""
             }
            },
            "marker": {
             "colorbar": {
              "outlinewidth": 0,
              "ticks": ""
             }
            },
            "type": "scatter3d"
           }
          ],
          "scattercarpet": [
           {
            "marker": {
             "colorbar": {
              "outlinewidth": 0,
              "ticks": ""
             }
            },
            "type": "scattercarpet"
           }
          ],
          "scattergeo": [
           {
            "marker": {
             "colorbar": {
              "outlinewidth": 0,
              "ticks": ""
             }
            },
            "type": "scattergeo"
           }
          ],
          "scattergl": [
           {
            "marker": {
             "colorbar": {
              "outlinewidth": 0,
              "ticks": ""
             }
            },
            "type": "scattergl"
           }
          ],
          "scattermapbox": [
           {
            "marker": {
             "colorbar": {
              "outlinewidth": 0,
              "ticks": ""
             }
            },
            "type": "scattermapbox"
           }
          ],
          "scatterpolar": [
           {
            "marker": {
             "colorbar": {
              "outlinewidth": 0,
              "ticks": ""
             }
            },
            "type": "scatterpolar"
           }
          ],
          "scatterpolargl": [
           {
            "marker": {
             "colorbar": {
              "outlinewidth": 0,
              "ticks": ""
             }
            },
            "type": "scatterpolargl"
           }
          ],
          "scatterternary": [
           {
            "marker": {
             "colorbar": {
              "outlinewidth": 0,
              "ticks": ""
             }
            },
            "type": "scatterternary"
           }
          ],
          "surface": [
           {
            "colorbar": {
             "outlinewidth": 0,
             "ticks": ""
            },
            "colorscale": [
             [
              0,
              "#0d0887"
             ],
             [
              0.1111111111111111,
              "#46039f"
             ],
             [
              0.2222222222222222,
              "#7201a8"
             ],
             [
              0.3333333333333333,
              "#9c179e"
             ],
             [
              0.4444444444444444,
              "#bd3786"
             ],
             [
              0.5555555555555556,
              "#d8576b"
             ],
             [
              0.6666666666666666,
              "#ed7953"
             ],
             [
              0.7777777777777778,
              "#fb9f3a"
             ],
             [
              0.8888888888888888,
              "#fdca26"
             ],
             [
              1,
              "#f0f921"
             ]
            ],
            "type": "surface"
           }
          ],
          "table": [
           {
            "cells": {
             "fill": {
              "color": "#EBF0F8"
             },
             "line": {
              "color": "white"
             }
            },
            "header": {
             "fill": {
              "color": "#C8D4E3"
             },
             "line": {
              "color": "white"
             }
            },
            "type": "table"
           }
          ]
         },
         "layout": {
          "annotationdefaults": {
           "arrowcolor": "#2a3f5f",
           "arrowhead": 0,
           "arrowwidth": 1
          },
          "autotypenumbers": "strict",
          "coloraxis": {
           "colorbar": {
            "outlinewidth": 0,
            "ticks": ""
           }
          },
          "colorscale": {
           "diverging": [
            [
             0,
             "#8e0152"
            ],
            [
             0.1,
             "#c51b7d"
            ],
            [
             0.2,
             "#de77ae"
            ],
            [
             0.3,
             "#f1b6da"
            ],
            [
             0.4,
             "#fde0ef"
            ],
            [
             0.5,
             "#f7f7f7"
            ],
            [
             0.6,
             "#e6f5d0"
            ],
            [
             0.7,
             "#b8e186"
            ],
            [
             0.8,
             "#7fbc41"
            ],
            [
             0.9,
             "#4d9221"
            ],
            [
             1,
             "#276419"
            ]
           ],
           "sequential": [
            [
             0,
             "#0d0887"
            ],
            [
             0.1111111111111111,
             "#46039f"
            ],
            [
             0.2222222222222222,
             "#7201a8"
            ],
            [
             0.3333333333333333,
             "#9c179e"
            ],
            [
             0.4444444444444444,
             "#bd3786"
            ],
            [
             0.5555555555555556,
             "#d8576b"
            ],
            [
             0.6666666666666666,
             "#ed7953"
            ],
            [
             0.7777777777777778,
             "#fb9f3a"
            ],
            [
             0.8888888888888888,
             "#fdca26"
            ],
            [
             1,
             "#f0f921"
            ]
           ],
           "sequentialminus": [
            [
             0,
             "#0d0887"
            ],
            [
             0.1111111111111111,
             "#46039f"
            ],
            [
             0.2222222222222222,
             "#7201a8"
            ],
            [
             0.3333333333333333,
             "#9c179e"
            ],
            [
             0.4444444444444444,
             "#bd3786"
            ],
            [
             0.5555555555555556,
             "#d8576b"
            ],
            [
             0.6666666666666666,
             "#ed7953"
            ],
            [
             0.7777777777777778,
             "#fb9f3a"
            ],
            [
             0.8888888888888888,
             "#fdca26"
            ],
            [
             1,
             "#f0f921"
            ]
           ]
          },
          "colorway": [
           "#636efa",
           "#EF553B",
           "#00cc96",
           "#ab63fa",
           "#FFA15A",
           "#19d3f3",
           "#FF6692",
           "#B6E880",
           "#FF97FF",
           "#FECB52"
          ],
          "font": {
           "color": "#2a3f5f"
          },
          "geo": {
           "bgcolor": "white",
           "lakecolor": "white",
           "landcolor": "white",
           "showlakes": true,
           "showland": true,
           "subunitcolor": "#C8D4E3"
          },
          "hoverlabel": {
           "align": "left"
          },
          "hovermode": "closest",
          "mapbox": {
           "style": "light"
          },
          "paper_bgcolor": "white",
          "plot_bgcolor": "white",
          "polar": {
           "angularaxis": {
            "gridcolor": "#EBF0F8",
            "linecolor": "#EBF0F8",
            "ticks": ""
           },
           "bgcolor": "white",
           "radialaxis": {
            "gridcolor": "#EBF0F8",
            "linecolor": "#EBF0F8",
            "ticks": ""
           }
          },
          "scene": {
           "xaxis": {
            "backgroundcolor": "white",
            "gridcolor": "#DFE8F3",
            "gridwidth": 2,
            "linecolor": "#EBF0F8",
            "showbackground": true,
            "ticks": "",
            "zerolinecolor": "#EBF0F8"
           },
           "yaxis": {
            "backgroundcolor": "white",
            "gridcolor": "#DFE8F3",
            "gridwidth": 2,
            "linecolor": "#EBF0F8",
            "showbackground": true,
            "ticks": "",
            "zerolinecolor": "#EBF0F8"
           },
           "zaxis": {
            "backgroundcolor": "white",
            "gridcolor": "#DFE8F3",
            "gridwidth": 2,
            "linecolor": "#EBF0F8",
            "showbackground": true,
            "ticks": "",
            "zerolinecolor": "#EBF0F8"
           }
          },
          "shapedefaults": {
           "line": {
            "color": "#2a3f5f"
           }
          },
          "ternary": {
           "aaxis": {
            "gridcolor": "#DFE8F3",
            "linecolor": "#A2B1C6",
            "ticks": ""
           },
           "baxis": {
            "gridcolor": "#DFE8F3",
            "linecolor": "#A2B1C6",
            "ticks": ""
           },
           "bgcolor": "white",
           "caxis": {
            "gridcolor": "#DFE8F3",
            "linecolor": "#A2B1C6",
            "ticks": ""
           }
          },
          "title": {
           "x": 0.05
          },
          "xaxis": {
           "automargin": true,
           "gridcolor": "#EBF0F8",
           "linecolor": "#EBF0F8",
           "ticks": "",
           "title": {
            "standoff": 15
           },
           "zerolinecolor": "#EBF0F8",
           "zerolinewidth": 2
          },
          "yaxis": {
           "automargin": true,
           "gridcolor": "#EBF0F8",
           "linecolor": "#EBF0F8",
           "ticks": "",
           "title": {
            "standoff": 15
           },
           "zerolinecolor": "#EBF0F8",
           "zerolinewidth": 2
          }
         }
        },
        "title": {
         "text": "Prédictions CPI avec LSTM"
        },
        "xaxis": {
         "showgrid": true,
         "tickangle": -45,
         "tickformat": "%Y-%b",
         "title": {
          "text": "Date"
         }
        },
        "yaxis": {
         "range": [
          22.85035,
          123.05685000000001
         ],
         "showgrid": true,
         "title": {
          "text": "CPI (Indexation 2018)"
         },
         "zeroline": false
        }
       }
      }
     },
     "metadata": {},
     "output_type": "display_data"
    }
   ],
   "source": [
    "import plotly.graph_objects as go\n",
    "\n",
    "# Inversion correcte des prédictions\n",
    "pred_dates = dataframe[\"year_month\"][-len(pred_series):]\n",
    "pred_values = scaler.inverse_transform(pred_series).values().flatten()\n",
    "\n",
    "# on converti dataframe[\"All Items\"] en float\n",
    "\n",
    "dataframe[\"All Items\"] = dataframe[\"All Items\"].astype(float)\n",
    "\n",
    "# Définir une échelle Y continue et uniforme\n",
    "y_min = min(dataframe[\"All Items\"].min(), pred_values.min()) * 0.95\n",
    "y_max = max(dataframe[\"All Items\"].max(), pred_values.max()) * 1.05\n",
    "\n",
    "# Création du graphique\n",
    "fig = go.Figure()\n",
    "\n",
    "# Ajout des valeurs réelles\n",
    "fig.add_trace(go.Scatter(\n",
    "    x=dataframe[\"year_month\"], \n",
    "    y=dataframe[\"All Items\"], \n",
    "    mode='lines', \n",
    "    name='Réel', \n",
    "    line=dict(color='blue', width=2)\n",
    "))\n",
    "\n",
    "# Ajout des prédictions\n",
    "fig.add_trace(go.Scatter(\n",
    "    x=pred_dates, \n",
    "    y=pred_values, \n",
    "    mode='lines', \n",
    "    name='Prédictions', \n",
    "    line=dict(color='red', width=2)\n",
    "))\n",
    "\n",
    "# Mise en forme\n",
    "fig.update_layout(\n",
    "    title=\"Prédictions CPI avec LSTM\",\n",
    "    xaxis_title=\"Date\",\n",
    "    yaxis_title=\"CPI (Indexation 2018)\",\n",
    "    template=\"plotly_white\",\n",
    "    xaxis=dict(showgrid=True, tickangle=-45, tickformat=\"%Y-%b\"),\n",
    "    yaxis=dict(showgrid=True, zeroline=False, range=[y_min, y_max]),  # 🔥 Correction ici !\n",
    "    legend=dict(x=0, y=1)\n",
    ")\n",
    "\n",
    "# Affichage du graphique\n",
    "fig.show()\n"
   ]
  }
 ],
 "metadata": {
  "kernelspec": {
   "display_name": "Python 3",
   "language": "python",
   "name": "python3"
  },
  "language_info": {
   "codemirror_mode": {
    "name": "ipython",
    "version": 3
   },
   "file_extension": ".py",
   "mimetype": "text/x-python",
   "name": "python",
   "nbconvert_exporter": "python",
   "pygments_lexer": "ipython3",
   "version": "3.12.8"
  }
 },
 "nbformat": 4,
 "nbformat_minor": 2
}
