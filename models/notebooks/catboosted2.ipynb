{
 "cells": [
  {
   "cell_type": "code",
   "execution_count": 1,
   "metadata": {},
   "outputs": [],
   "source": [
    "import pandas as pd"
   ]
  },
  {
   "cell_type": "code",
   "execution_count": 2,
   "metadata": {},
   "outputs": [
    {
     "data": {
      "text/html": [
       "<div>\n",
       "<style scoped>\n",
       "    .dataframe tbody tr th:only-of-type {\n",
       "        vertical-align: middle;\n",
       "    }\n",
       "\n",
       "    .dataframe tbody tr th {\n",
       "        vertical-align: top;\n",
       "    }\n",
       "\n",
       "    .dataframe thead th {\n",
       "        text-align: right;\n",
       "    }\n",
       "</style>\n",
       "<table border=\"1\" class=\"dataframe\">\n",
       "  <thead>\n",
       "    <tr style=\"text-align: right;\">\n",
       "      <th></th>\n",
       "      <th>month</th>\n",
       "      <th>town</th>\n",
       "      <th>flat_type</th>\n",
       "      <th>block</th>\n",
       "      <th>street_name</th>\n",
       "      <th>storey_range</th>\n",
       "      <th>floor_area_sqm</th>\n",
       "      <th>flat_model</th>\n",
       "      <th>lease_commence_date</th>\n",
       "      <th>remaining_lease</th>\n",
       "      <th>resale_price</th>\n",
       "    </tr>\n",
       "  </thead>\n",
       "  <tbody>\n",
       "    <tr>\n",
       "      <th>0</th>\n",
       "      <td>2017-01</td>\n",
       "      <td>Ang Mo Kio</td>\n",
       "      <td>2 ROOM</td>\n",
       "      <td>406</td>\n",
       "      <td>ANG MO KIO AVE 10</td>\n",
       "      <td>10 TO 12</td>\n",
       "      <td>44.0</td>\n",
       "      <td>Improved</td>\n",
       "      <td>1979</td>\n",
       "      <td>61 years 04 months</td>\n",
       "      <td>232000.0</td>\n",
       "    </tr>\n",
       "    <tr>\n",
       "      <th>1</th>\n",
       "      <td>2017-01</td>\n",
       "      <td>Ang Mo Kio</td>\n",
       "      <td>3 ROOM</td>\n",
       "      <td>108</td>\n",
       "      <td>ANG MO KIO AVE 4</td>\n",
       "      <td>01 TO 03</td>\n",
       "      <td>67.0</td>\n",
       "      <td>New Generation</td>\n",
       "      <td>1978</td>\n",
       "      <td>60 years 07 months</td>\n",
       "      <td>250000.0</td>\n",
       "    </tr>\n",
       "    <tr>\n",
       "      <th>2</th>\n",
       "      <td>2017-01</td>\n",
       "      <td>Ang Mo Kio</td>\n",
       "      <td>3 ROOM</td>\n",
       "      <td>602</td>\n",
       "      <td>ANG MO KIO AVE 5</td>\n",
       "      <td>01 TO 03</td>\n",
       "      <td>67.0</td>\n",
       "      <td>New Generation</td>\n",
       "      <td>1980</td>\n",
       "      <td>62 years 05 months</td>\n",
       "      <td>262000.0</td>\n",
       "    </tr>\n",
       "    <tr>\n",
       "      <th>3</th>\n",
       "      <td>2017-01</td>\n",
       "      <td>Ang Mo Kio</td>\n",
       "      <td>3 ROOM</td>\n",
       "      <td>465</td>\n",
       "      <td>ANG MO KIO AVE 10</td>\n",
       "      <td>04 TO 06</td>\n",
       "      <td>68.0</td>\n",
       "      <td>New Generation</td>\n",
       "      <td>1980</td>\n",
       "      <td>62 years 01 month</td>\n",
       "      <td>265000.0</td>\n",
       "    </tr>\n",
       "    <tr>\n",
       "      <th>4</th>\n",
       "      <td>2017-01</td>\n",
       "      <td>Ang Mo Kio</td>\n",
       "      <td>3 ROOM</td>\n",
       "      <td>601</td>\n",
       "      <td>ANG MO KIO AVE 5</td>\n",
       "      <td>01 TO 03</td>\n",
       "      <td>67.0</td>\n",
       "      <td>New Generation</td>\n",
       "      <td>1980</td>\n",
       "      <td>62 years 05 months</td>\n",
       "      <td>265000.0</td>\n",
       "    </tr>\n",
       "  </tbody>\n",
       "</table>\n",
       "</div>"
      ],
      "text/plain": [
       "     month        town flat_type block        street_name storey_range  \\\n",
       "0  2017-01  Ang Mo Kio    2 ROOM   406  ANG MO KIO AVE 10     10 TO 12   \n",
       "1  2017-01  Ang Mo Kio    3 ROOM   108   ANG MO KIO AVE 4     01 TO 03   \n",
       "2  2017-01  Ang Mo Kio    3 ROOM   602   ANG MO KIO AVE 5     01 TO 03   \n",
       "3  2017-01  Ang Mo Kio    3 ROOM   465  ANG MO KIO AVE 10     04 TO 06   \n",
       "4  2017-01  Ang Mo Kio    3 ROOM   601   ANG MO KIO AVE 5     01 TO 03   \n",
       "\n",
       "   floor_area_sqm      flat_model  lease_commence_date     remaining_lease  \\\n",
       "0            44.0        Improved                 1979  61 years 04 months   \n",
       "1            67.0  New Generation                 1978  60 years 07 months   \n",
       "2            67.0  New Generation                 1980  62 years 05 months   \n",
       "3            68.0  New Generation                 1980   62 years 01 month   \n",
       "4            67.0  New Generation                 1980  62 years 05 months   \n",
       "\n",
       "   resale_price  \n",
       "0      232000.0  \n",
       "1      250000.0  \n",
       "2      262000.0  \n",
       "3      265000.0  \n",
       "4      265000.0  "
      ]
     },
     "execution_count": 2,
     "metadata": {},
     "output_type": "execute_result"
    }
   ],
   "source": [
    "df = pd.read_csv('services/data/processed/immobilier.csv')\n",
    "\n",
    "df.head()"
   ]
  },
  {
   "cell_type": "code",
   "execution_count": 3,
   "metadata": {},
   "outputs": [
    {
     "name": "stdout",
     "output_type": "stream",
     "text": [
      "0:\tlearn: 165623.5501009\ttest: 166222.6555979\tbest: 166222.6555979 (0)\ttotal: 355ms\tremaining: 8m 52s\n",
      "100:\tlearn: 36732.1578962\ttest: 36043.3448837\tbest: 36043.3448837 (100)\ttotal: 17.1s\tremaining: 3m 56s\n",
      "200:\tlearn: 31417.1342968\ttest: 31172.9752794\tbest: 31172.9752794 (200)\ttotal: 33.6s\tremaining: 3m 36s\n",
      "300:\tlearn: 29022.8446598\ttest: 29218.3696532\tbest: 29218.3696532 (300)\ttotal: 49.7s\tremaining: 3m 17s\n",
      "400:\tlearn: 27530.2574509\ttest: 28120.4143248\tbest: 28120.4143248 (400)\ttotal: 1m 6s\tremaining: 3m 1s\n",
      "500:\tlearn: 26462.4033184\ttest: 27463.5042986\tbest: 27463.5042986 (500)\ttotal: 1m 22s\tremaining: 2m 44s\n",
      "600:\tlearn: 25683.3905493\ttest: 27092.0498052\tbest: 27092.0498052 (600)\ttotal: 1m 39s\tremaining: 2m 28s\n",
      "700:\tlearn: 25006.5328895\ttest: 26812.0127082\tbest: 26812.0127082 (700)\ttotal: 1m 55s\tremaining: 2m 12s\n",
      "800:\tlearn: 24409.1680859\ttest: 26600.0643875\tbest: 26600.0643875 (800)\ttotal: 2m 12s\tremaining: 1m 55s\n",
      "900:\tlearn: 23861.0869066\ttest: 26416.8234122\tbest: 26416.8234122 (900)\ttotal: 2m 29s\tremaining: 1m 39s\n",
      "1000:\tlearn: 23378.9503410\ttest: 26305.0672678\tbest: 26305.0672678 (1000)\ttotal: 2m 46s\tremaining: 1m 22s\n",
      "1100:\tlearn: 22944.5628476\ttest: 26189.2434732\tbest: 26189.2434732 (1100)\ttotal: 3m 3s\tremaining: 1m 6s\n",
      "1200:\tlearn: 22585.1040145\ttest: 26132.3005680\tbest: 26132.3005680 (1200)\ttotal: 3m 20s\tremaining: 49.9s\n",
      "1300:\tlearn: 22196.4986183\ttest: 26073.6294601\tbest: 26073.6294601 (1300)\ttotal: 3m 36s\tremaining: 33.2s\n",
      "1400:\tlearn: 21865.0192121\ttest: 26036.8634298\tbest: 26035.9053196 (1398)\ttotal: 3m 53s\tremaining: 16.5s\n",
      "1499:\tlearn: 21563.1041185\ttest: 25978.6804815\tbest: 25978.6804815 (1499)\ttotal: 4m 10s\tremaining: 0us\n",
      "\n",
      "bestTest = 25978.68048\n",
      "bestIteration = 1499\n",
      "\n"
     ]
    }
   ],
   "source": [
    "import pandas as pd\n",
    "import numpy as np\n",
    "from catboost import CatBoostRegressor, Pool\n",
    "from sklearn.model_selection import train_test_split\n",
    "\n",
    "# Charger les données\n",
    "df = pd.read_csv('services/data/processed/immobilier.csv').drop(columns=['block'])\n",
    "\n",
    "# Convertir la colonne 'month' en datetime\n",
    "df['month'] = pd.to_datetime(df['month'])\n",
    "df['year'] = df['month'].dt.year\n",
    "df['month'] = df['month'].dt.month\n",
    "\n",
    "# Fonction robuste pour extraire les années et mois\n",
    "def parse_remaining_lease(lease):\n",
    "    if isinstance(lease, str):\n",
    "        parts = lease.split(' years ')\n",
    "        years = 0\n",
    "        months = 0\n",
    "        \n",
    "        # Vérifier si on a bien une partie \"years\"\n",
    "        if len(parts) > 1:\n",
    "            years = int(parts[0])\n",
    "            months_part = parts[1]\n",
    "        else:\n",
    "            months_part = parts[0]\n",
    "        \n",
    "        # Vérifier si la partie \"months\" est présente\n",
    "        if 'months' in months_part:\n",
    "            months = int(months_part.split(' months')[0])\n",
    "        \n",
    "        return years + months / 12\n",
    "    return np.nan\n",
    "\n",
    "df['remaining_lease_years'] = df['remaining_lease'].apply(parse_remaining_lease)\n",
    "\n",
    "# Sélectionner les colonnes utiles\n",
    "features = ['month', 'year', 'town', 'flat_type', 'street_name',\n",
    "            'storey_range', 'floor_area_sqm', 'flat_model', 'lease_commence_date',\n",
    "            'remaining_lease_years']\n",
    "\n",
    "# Définir les variables catégorielles pour CatBoost\n",
    "cat_features = ['town', 'flat_type', 'street_name', 'storey_range', 'flat_model']\n",
    "\n",
    "# Supprimer les valeurs manquantes\n",
    "df = df.dropna()\n",
    "\n",
    "# Séparation des données\n",
    "X = df[features]\n",
    "y = df['resale_price']\n",
    "X_train, X_test, y_train, y_test = train_test_split(X, y, test_size=0.2, random_state=42)\n",
    "\n",
    "# Création des Pool pour CatBoost\n",
    "train_pool = Pool(X_train, label=y_train, cat_features=cat_features)\n",
    "test_pool = Pool(X_test, label=y_test, cat_features=cat_features)\n",
    "\n",
    "# Entraînement du modèle\n",
    "model = CatBoostRegressor(\n",
    "    iterations=1500,\n",
    "    learning_rate=0.09,\n",
    "    depth=10,\n",
    "    loss_function='RMSE',\n",
    "    eval_metric='RMSE',\n",
    "    cat_features=cat_features,\n",
    "    verbose=100\n",
    ")\n",
    "\n",
    "model.fit(train_pool, eval_set=test_pool, early_stopping_rounds=50, use_best_model=True)\n",
    "\n",
    "# Prédictions\n",
    "y_pred = model.predict(X_test)\n",
    "\n",
    "\n"
   ]
  },
  {
   "cell_type": "code",
   "execution_count": 18,
   "metadata": {},
   "outputs": [],
   "source": [
    "import pickle\n",
    "\n",
    "# Sauvegarde avec pickle\n",
    "with open(\"catboost_model.pkl\", \"wb\") as f:\n",
    "    pickle.dump(model, f)\n"
   ]
  },
  {
   "cell_type": "code",
   "execution_count": 7,
   "metadata": {},
   "outputs": [
    {
     "name": "stdout",
     "output_type": "stream",
     "text": [
      "RMSE: 25978.68\n",
      "MAE: 18615.08\n",
      "R² Score: 0.9789\n"
     ]
    }
   ],
   "source": [
    "from sklearn.metrics import root_mean_squared_error, r2_score, mean_absolute_error\n",
    "\n",
    "rmse = root_mean_squared_error(y_test, y_pred)\n",
    "r2 = r2_score(y_test, y_pred)\n",
    "mae = mean_absolute_error(y_test, y_pred)\n",
    "\n",
    "print(f'RMSE: {rmse:.2f}')\n",
    "print(f'MAE: {mae:.2f}')\n",
    "print(f'R² Score: {r2:.4f}')"
   ]
  },
  {
   "cell_type": "code",
   "execution_count": 8,
   "metadata": {},
   "outputs": [
    {
     "name": "stdout",
     "output_type": "stream",
     "text": [
      "year: 20.63\n",
      "town: 17.22\n",
      "floor_area_sqm: 13.55\n",
      "lease_commence_date: 13.17\n",
      "flat_type: 12.91\n",
      "flat_model: 8.50\n",
      "street_name: 7.47\n",
      "storey_range: 4.94\n",
      "month: 1.08\n",
      "remaining_lease_years: 0.53\n"
     ]
    }
   ],
   "source": [
    "# on regarde les features importante du modele catboost\n",
    "\n",
    "feature_importances = model.get_feature_importance(train_pool)\n",
    "\n",
    "feature_names = X_train.columns\n",
    "for score, name in sorted(zip(feature_importances, feature_names), reverse=True):\n",
    "    print(f'{name}: {score:.2f}')"
   ]
  },
  {
   "cell_type": "code",
   "execution_count": 9,
   "metadata": {},
   "outputs": [],
   "source": [
    "import optuna\n",
    "\n",
    "def objective(trial):\n",
    "    params = {\n",
    "        \"iterations\": trial.suggest_int(\"iterations\", 1000, 3000, step=500),  # Entre 1000 et 3000\n",
    "        \"learning_rate\": trial.suggest_float(\"learning_rate\", 0.01, 0.3),  # Entre 0.01 et 0.3\n",
    "        \"depth\": trial.suggest_int(\"depth\", 6, 12),  # Entre 6 et 12\n",
    "        \"l2_leaf_reg\": trial.suggest_float(\"l2_leaf_reg\", 1e-3, 10, log=True),  # Régularisation\n",
    "        \"random_strength\": trial.suggest_float(\"random_strength\", 1e-3, 10, log=True),  # Stabilité\n",
    "        \"loss_function\": \"RMSE\",\n",
    "        \"eval_metric\": \"RMSE\",\n",
    "        \"cat_features\": cat_features,\n",
    "        \"verbose\": 0\n",
    "    }\n",
    "    \n",
    "    model = CatBoostRegressor(**params)\n",
    "    model.fit(train_pool, eval_set=test_pool, early_stopping_rounds=50, use_best_model=True, verbose=0)\n",
    "    \n",
    "    # Récupérer la meilleure RMSE sur le test set\n",
    "    return model.best_score_[\"validation\"][\"RMSE\"]\n"
   ]
  },
  {
   "cell_type": "code",
   "execution_count": 10,
   "metadata": {},
   "outputs": [
    {
     "name": "stderr",
     "output_type": "stream",
     "text": [
      "[I 2025-02-16 20:06:54,572] A new study created in memory with name: no-name-c0d6a057-b12c-4167-a116-3268b0f2140e\n",
      "[I 2025-02-16 20:14:44,923] Trial 0 finished with value: 25885.844958707625 and parameters: {'iterations': 3000, 'learning_rate': 0.09577902968981677, 'depth': 10, 'l2_leaf_reg': 0.04548450617561394, 'random_strength': 0.013330508384703675}. Best is trial 0 with value: 25885.844958707625.\n",
      "[I 2025-02-16 20:20:22,015] Trial 1 finished with value: 26483.976514315676 and parameters: {'iterations': 3000, 'learning_rate': 0.16055312892045245, 'depth': 12, 'l2_leaf_reg': 1.5088894489655977, 'random_strength': 0.036404383660262905}. Best is trial 0 with value: 25885.844958707625.\n",
      "[I 2025-02-16 20:28:08,052] Trial 2 finished with value: 25936.497468380738 and parameters: {'iterations': 2000, 'learning_rate': 0.12619571543502905, 'depth': 8, 'l2_leaf_reg': 0.0014551371956676832, 'random_strength': 0.029391528168139225}. Best is trial 0 with value: 25885.844958707625.\n",
      "[I 2025-02-16 20:32:18,273] Trial 3 finished with value: 26746.81131911206 and parameters: {'iterations': 1000, 'learning_rate': 0.06885008257563335, 'depth': 9, 'l2_leaf_reg': 0.03960120758025267, 'random_strength': 0.0014091049668399852}. Best is trial 0 with value: 25885.844958707625.\n",
      "[I 2025-02-16 20:36:53,323] Trial 4 finished with value: 26812.632639810014 and parameters: {'iterations': 2000, 'learning_rate': 0.057923987812347554, 'depth': 8, 'l2_leaf_reg': 5.969835261479173, 'random_strength': 1.434032506983084}. Best is trial 0 with value: 25885.844958707625.\n",
      "[I 2025-02-16 20:42:32,939] Trial 5 finished with value: 26101.22809313504 and parameters: {'iterations': 3000, 'learning_rate': 0.23855368511510683, 'depth': 7, 'l2_leaf_reg': 2.3342604977642765, 'random_strength': 5.0888316390239146}. Best is trial 0 with value: 25885.844958707625.\n",
      "[I 2025-02-16 20:47:11,449] Trial 6 finished with value: 29967.97659921456 and parameters: {'iterations': 3000, 'learning_rate': 0.026787180861742962, 'depth': 6, 'l2_leaf_reg': 6.590646466530118, 'random_strength': 0.0028700222555975933}. Best is trial 0 with value: 25885.844958707625.\n",
      "[I 2025-02-16 20:51:15,048] Trial 7 finished with value: 26351.47802414418 and parameters: {'iterations': 1000, 'learning_rate': 0.10081462364706748, 'depth': 12, 'l2_leaf_reg': 0.004111437272388446, 'random_strength': 0.1734235442030372}. Best is trial 0 with value: 25885.844958707625.\n",
      "[I 2025-02-16 20:53:59,074] Trial 8 finished with value: 26257.570259066313 and parameters: {'iterations': 2500, 'learning_rate': 0.19571179801632563, 'depth': 9, 'l2_leaf_reg': 0.030124607949273487, 'random_strength': 0.13988431770315746}. Best is trial 0 with value: 25885.844958707625.\n",
      "[I 2025-02-16 20:55:35,938] Trial 9 finished with value: 27608.930788884725 and parameters: {'iterations': 1000, 'learning_rate': 0.18098341574262097, 'depth': 6, 'l2_leaf_reg': 0.20458789472716732, 'random_strength': 7.977100939683941}. Best is trial 0 with value: 25885.844958707625.\n",
      "[I 2025-02-16 20:57:07,147] Trial 10 finished with value: 26696.32182373992 and parameters: {'iterations': 2500, 'learning_rate': 0.2725215537425411, 'depth': 11, 'l2_leaf_reg': 0.2790115961685663, 'random_strength': 0.007656768935399886}. Best is trial 0 with value: 25885.844958707625.\n",
      "[I 2025-02-16 21:01:51,239] Trial 11 finished with value: 25927.03620878399 and parameters: {'iterations': 2000, 'learning_rate': 0.11055889383322547, 'depth': 10, 'l2_leaf_reg': 0.0011853697978892463, 'random_strength': 0.022794702971831234}. Best is trial 0 with value: 25885.844958707625.\n",
      "[I 2025-02-16 21:06:28,291] Trial 12 finished with value: 25985.674272523003 and parameters: {'iterations': 1500, 'learning_rate': 0.10967787261878814, 'depth': 10, 'l2_leaf_reg': 0.009409945642973244, 'random_strength': 0.012010540328547583}. Best is trial 0 with value: 25885.844958707625.\n",
      "[I 2025-02-16 21:15:22,980] Trial 13 finished with value: 26668.627820498205 and parameters: {'iterations': 2500, 'learning_rate': 0.02049495118012494, 'depth': 10, 'l2_leaf_reg': 0.0013326557971562042, 'random_strength': 0.3990392709257136}. Best is trial 0 with value: 25885.844958707625.\n",
      "[I 2025-02-16 21:19:26,131] Trial 14 finished with value: 26048.964671557253 and parameters: {'iterations': 1500, 'learning_rate': 0.13266744448538792, 'depth': 10, 'l2_leaf_reg': 0.010337529414595877, 'random_strength': 0.03551197425532195}. Best is trial 0 with value: 25885.844958707625.\n",
      "[I 2025-02-16 21:26:07,608] Trial 15 finished with value: 26019.069417504517 and parameters: {'iterations': 1500, 'learning_rate': 0.06812323237108998, 'depth': 11, 'l2_leaf_reg': 0.0865477552868171, 'random_strength': 0.010177780504504642}. Best is trial 0 with value: 25885.844958707625.\n",
      "[I 2025-02-16 21:28:33,502] Trial 16 finished with value: 26556.496007627044 and parameters: {'iterations': 2000, 'learning_rate': 0.2130876621946705, 'depth': 11, 'l2_leaf_reg': 0.6318792296180306, 'random_strength': 0.0035539366851378563}. Best is trial 0 with value: 25885.844958707625.\n",
      "[I 2025-02-16 21:34:21,695] Trial 17 finished with value: 25939.330430413458 and parameters: {'iterations': 2500, 'learning_rate': 0.08896758885717927, 'depth': 8, 'l2_leaf_reg': 0.0038635781043062107, 'random_strength': 0.06304377875340075}. Best is trial 0 with value: 25885.844958707625.\n",
      "[I 2025-02-16 21:37:39,462] Trial 18 finished with value: 26081.520837605778 and parameters: {'iterations': 2000, 'learning_rate': 0.1466643625897795, 'depth': 9, 'l2_leaf_reg': 0.02526433736126539, 'random_strength': 0.0012010004556956475}. Best is trial 0 with value: 25885.844958707625.\n",
      "[I 2025-02-16 21:48:11,781] Trial 19 finished with value: 25872.15690750218 and parameters: {'iterations': 2500, 'learning_rate': 0.041514698583052935, 'depth': 11, 'l2_leaf_reg': 0.08247401875925693, 'random_strength': 0.4823931328271286}. Best is trial 19 with value: 25872.15690750218.\n"
     ]
    },
    {
     "name": "stdout",
     "output_type": "stream",
     "text": [
      "Best Hyperparameters: {'iterations': 2500, 'learning_rate': 0.041514698583052935, 'depth': 11, 'l2_leaf_reg': 0.08247401875925693, 'random_strength': 0.4823931328271286}\n"
     ]
    }
   ],
   "source": [
    "study = optuna.create_study(direction=\"minimize\")  # Minimiser la RMSE\n",
    "study.optimize(objective, n_trials=20)  # Faire 20 essais\n",
    "\n",
    "print(\"Best Hyperparameters:\", study.best_params)\n"
   ]
  },
  {
   "cell_type": "code",
   "execution_count": 4,
   "metadata": {},
   "outputs": [
    {
     "name": "stdout",
     "output_type": "stream",
     "text": [
      "0:\tlearn: 172280.4186665\ttest: 172777.6162065\tbest: 172777.6162065 (0)\ttotal: 202ms\tremaining: 8m 25s\n",
      "100:\tlearn: 41577.7978029\ttest: 41164.7221619\tbest: 41164.7221619 (100)\ttotal: 19s\tremaining: 7m 30s\n",
      "200:\tlearn: 34876.3076557\ttest: 34820.7236878\tbest: 34820.7236878 (200)\ttotal: 38.3s\tremaining: 7m 18s\n",
      "300:\tlearn: 31436.9962440\ttest: 31797.0622759\tbest: 31797.0622759 (300)\ttotal: 57.9s\tremaining: 7m 2s\n",
      "400:\tlearn: 29150.8783652\ttest: 29914.1745542\tbest: 29914.1745542 (400)\ttotal: 1m 17s\tremaining: 6m 45s\n",
      "500:\tlearn: 27597.3010662\ttest: 28763.5465257\tbest: 28763.5465257 (500)\ttotal: 1m 37s\tremaining: 6m 27s\n",
      "600:\tlearn: 26532.4411416\ttest: 28043.8935903\tbest: 28043.8935903 (600)\ttotal: 1m 57s\tremaining: 6m 10s\n",
      "700:\tlearn: 25714.3258206\ttest: 27567.8168088\tbest: 27567.8168088 (700)\ttotal: 2m 16s\tremaining: 5m 51s\n",
      "800:\tlearn: 24955.4522702\ttest: 27158.6464934\tbest: 27158.6464934 (800)\ttotal: 2m 36s\tremaining: 5m 31s\n",
      "900:\tlearn: 24333.5385932\ttest: 26909.2877840\tbest: 26909.2877840 (900)\ttotal: 2m 56s\tremaining: 5m 13s\n",
      "1000:\tlearn: 23740.1329119\ttest: 26687.9355033\tbest: 26687.9355033 (1000)\ttotal: 3m 16s\tremaining: 4m 54s\n",
      "1100:\tlearn: 23197.8388332\ttest: 26508.5370797\tbest: 26508.5370797 (1100)\ttotal: 3m 43s\tremaining: 4m 43s\n",
      "1200:\tlearn: 22714.4858496\ttest: 26384.4253941\tbest: 26384.1867986 (1198)\ttotal: 4m 2s\tremaining: 4m 22s\n",
      "1300:\tlearn: 22303.1511709\ttest: 26277.0188705\tbest: 26277.0188705 (1300)\ttotal: 4m 22s\tremaining: 4m 1s\n",
      "1400:\tlearn: 21893.4825817\ttest: 26211.1263154\tbest: 26210.2005898 (1399)\ttotal: 4m 42s\tremaining: 3m 41s\n",
      "1500:\tlearn: 21536.0852249\ttest: 26161.7331295\tbest: 26161.7331295 (1500)\ttotal: 5m 2s\tremaining: 3m 21s\n",
      "1600:\tlearn: 21170.5773703\ttest: 26102.2064690\tbest: 26102.2064690 (1600)\ttotal: 5m 28s\tremaining: 3m 4s\n",
      "1700:\tlearn: 20826.2998936\ttest: 26051.4964029\tbest: 26051.4964029 (1700)\ttotal: 5m 58s\tremaining: 2m 48s\n",
      "1800:\tlearn: 20511.1870329\ttest: 26006.7050997\tbest: 26006.7050997 (1800)\ttotal: 6m 19s\tremaining: 2m 27s\n",
      "1900:\tlearn: 20209.5638891\ttest: 25976.2949276\tbest: 25975.7763801 (1899)\ttotal: 6m 53s\tremaining: 2m 10s\n",
      "2000:\tlearn: 19936.2841555\ttest: 25951.4831920\tbest: 25951.4831920 (2000)\ttotal: 7m 31s\tremaining: 1m 52s\n",
      "2100:\tlearn: 19687.1725667\ttest: 25933.8996642\tbest: 25933.4465438 (2092)\ttotal: 7m 52s\tremaining: 1m 29s\n",
      "2200:\tlearn: 19413.5961599\ttest: 25916.9877896\tbest: 25916.5597228 (2199)\ttotal: 8m 12s\tremaining: 1m 6s\n",
      "2300:\tlearn: 19172.9718924\ttest: 25898.2360650\tbest: 25898.1628769 (2298)\ttotal: 8m 32s\tremaining: 44.3s\n",
      "2400:\tlearn: 18929.0696219\ttest: 25884.7671846\tbest: 25884.3634057 (2397)\ttotal: 8m 53s\tremaining: 22s\n",
      "2499:\tlearn: 18713.7180573\ttest: 25872.9740672\tbest: 25872.1569075 (2492)\ttotal: 9m 13s\tremaining: 0us\n",
      "\n",
      "bestTest = 25872.15691\n",
      "bestIteration = 2492\n",
      "\n",
      "Shrink model to first 2493 iterations.\n"
     ]
    }
   ],
   "source": [
    "best_params = {'iterations': 2500, 'learning_rate': 0.041514698583052935, 'depth': 11, 'l2_leaf_reg': 0.08247401875925693, 'random_strength': 0.4823931328271286}\n",
    "best_model = CatBoostRegressor(**best_params, cat_features=cat_features, verbose=100)\n",
    "best_model.fit(train_pool, eval_set=test_pool, early_stopping_rounds=50, use_best_model=True)\n",
    "\n",
    "# Évaluer le modèle\n",
    "y_pred_best = best_model.predict(X_test)\n",
    "\n"
   ]
  },
  {
   "cell_type": "code",
   "execution_count": 6,
   "metadata": {},
   "outputs": [
    {
     "name": "stdout",
     "output_type": "stream",
     "text": [
      "Optimized MAE: 18474.76\n",
      "Optimized RMSE: 25872.16\n",
      "Optimized R² Score: 0.9791\n"
     ]
    }
   ],
   "source": [
    "from sklearn.metrics import root_mean_squared_error, r2_score, mean_absolute_error\n",
    "\n",
    "rmse_best = root_mean_squared_error(y_test, y_pred_best)\n",
    "r2_best = r2_score(y_test, y_pred_best)\n",
    "mae = mean_absolute_error(y_test, y_pred_best)\n",
    "print(f\"Optimized MAE: {mae:.2f}\")\n",
    "print(f\"Optimized RMSE: {rmse_best:.2f}\")\n",
    "print(f\"Optimized R² Score: {r2_best:.4f}\")\n"
   ]
  },
  {
   "cell_type": "code",
   "execution_count": 7,
   "metadata": {},
   "outputs": [],
   "source": [
    "import pickle\n",
    "\n",
    "with open(\"catboost_model_entraine.pkl\", \"wb\") as f:\n",
    "    pickle.dump(best_model, f)\n"
   ]
  },
  {
   "cell_type": "code",
   "execution_count": null,
   "metadata": {},
   "outputs": [
    {
     "name": "stdout",
     "output_type": "stream",
     "text": [
      "Best parameters: {'depth': 10, 'l2_leaf_reg': 5, 'learning_rate': 0.1}\n",
      "Best score: -1607875981.532204\n"
     ]
    }
   ],
   "source": [
    "# On fait de la recherche d'hyperparametres avec quelques epochs pour voir si on peut ameliorer le modele\n",
    "# Je te laisse le faire avec plus d'iterations\n",
    "\n",
    "\n",
    "# from sklearn.model_selection import GridSearchCV\n",
    "\n",
    "# param_grid = {\n",
    "#     'learning_rate': [0.1],\n",
    "#     'depth': [8, 10],\n",
    "#     'l2_leaf_reg': [5, 10],\n",
    "# }\n",
    "\n",
    "# model = CatBoostRegressor(iterations=100, loss_function='RMSE', eval_metric='RMSE', cat_features=cat_features, verbose=0)\n",
    "# grid_search = GridSearchCV(model, param_grid, cv=None, n_jobs=-1, scoring='neg_mean_squared_error')\n",
    "# grid_search.fit(X_train, y_train)\n",
    "\n",
    "# print(f'Best parameters: {grid_search.best_params_}')\n",
    "# print(f'Best score: {grid_search.best_score_}')"
   ]
  }
 ],
 "metadata": {
  "kernelspec": {
   "display_name": "base",
   "language": "python",
   "name": "python3"
  },
  "language_info": {
   "codemirror_mode": {
    "name": "ipython",
    "version": 3
   },
   "file_extension": ".py",
   "mimetype": "text/x-python",
   "name": "python",
   "nbconvert_exporter": "python",
   "pygments_lexer": "ipython3",
   "version": "3.12.3"
  }
 },
 "nbformat": 4,
 "nbformat_minor": 2
}
